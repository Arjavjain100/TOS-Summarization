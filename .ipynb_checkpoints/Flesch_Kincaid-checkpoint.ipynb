{
 "cells": [
  {
   "cell_type": "markdown",
   "metadata": {
    "id": "peZy0TXxiHkc"
   },
   "source": [
    "# Readability Scores"
   ]
  },
  {
   "cell_type": "markdown",
   "metadata": {
    "id": "zMqms72ch76b"
   },
   "source": [
    "There are many readability score available. Some of the them are as follows -\n",
    "<ol>\n",
    "    <li> Flesch-Kincaid: This score is useful when determining the grade level needed to understand a piece of text. It takes into account sentence length and word complexity, and provides a grade-level score. It can be useful for educational materials or wehn targeting a specific reading level.</li>\n",
    "    <li>Coleman-Liau: This score also provides a grade-level score but places greater emphasis on the length of the text and the number of characters per word. It can be useful for determining the reading level of technical or scientific writing.</li>\n",
    "    <li>Dale-Chall: This score is useful for identifying difficult words that may be challenging for readers. It uses a list of common words that are easy to understand and compares them to the text. This score is useful when creating materials for readers with limited vocabulary.</li>\n",
    "    <li>SMOG: This score is similar to the Flesch-Kincaid score, but it places greater emphasis on longer words. It can be useful for determining the reading level of technical or scientific writing.</li>\n",
    "    <li>Automated Readability Index: This score is useful for determining the reading level of general writing. It takes into account the length of the text and the number of words per sentence.</li>\n",
    "    <li>Flesch Reading Ease: This score is useful for determining the readability of general writing. It provides a score between 0 and 100, with higher scores indicating easier readability. </li>\n",
    "    <li>The Gunning fog formula: This score is useful for determining the reading level of general writing. It takes into account sentence length and the number of complex words used. </li>\n",
    "    <li>Fry readability graph: This score is useful for determining the reading level of children's books. It provides a graph that shows the readability level of the text.</li>\n",
    "    <li>The FORECAST formula: This score is useful for determining the reading level of technical or scientific writing. It takes into account sentence length, word complexity, and the number of syllables per word.</li>\n",
    "</ol>"
   ]
  },
  {
   "cell_type": "markdown",
   "metadata": {
    "id": "pesGib-aiAWv"
   },
   "source": [
    "From this we can conclude that to check the readability score for a technical document such as Terms of Service, the following scores can be used -\n",
    "<li>Flesch-Kincaid</li>\n",
    "<li>Automated Readability Index</li>\n",
    "<li>The Gunning fog formula</li>"
   ]
  },
  {
   "cell_type": "markdown",
   "metadata": {
    "id": "NxsYdL2JiFA-"
   },
   "source": [
    "We are using Flesch-Kincaid Readability Score."
   ]
  },
  {
   "cell_type": "markdown",
   "metadata": {
    "id": "cmvLEJvKiNHf"
   },
   "source": [
    "Generral steps to apply the formula:-\n",
    "<ul>\n",
    "    <li>Select several 100-word samples throughout the text. </li>\n",
    "    <li>Compute the average sentence length in words (divide the number of words by the number of sentences).</li> \n",
    "    <li>Compute the percentage of words NOT on the Dale–Chall word list of 3, 000 easy words.</li> \n",
    "    <li>Compute the respective equations</li> \n",
    "</ul> "
   ]
  },
  {
   "cell_type": "code",
   "execution_count": 2,
   "metadata": {
    "colab": {
     "base_uri": "https://localhost:8080/"
    },
    "id": "DTWwehP-dFAU",
    "outputId": "2d1aeca2-4af9-45f1-8a8b-5be5cc5cb2a1"
   },
   "outputs": [
    {
     "name": "stdout",
     "output_type": "stream",
     "text": [
      "Looking in indexes: https://pypi.org/simple, https://us-python.pkg.dev/colab-wheels/public/simple/\n",
      "Collecting textstat\n",
      "  Downloading textstat-0.7.3-py3-none-any.whl (105 kB)\n",
      "\u001b[2K     \u001b[90m━━━━━━━━━━━━━━━━━━━━━━━━━━━━━━━━━━━━━━━\u001b[0m \u001b[32m105.1/105.1 KB\u001b[0m \u001b[31m4.0 MB/s\u001b[0m eta \u001b[36m0:00:00\u001b[0m\n",
      "\u001b[?25hCollecting pyphen\n",
      "  Downloading pyphen-0.14.0-py3-none-any.whl (2.0 MB)\n",
      "\u001b[2K     \u001b[90m━━━━━━━━━━━━━━━━━━━━━━━━━━━━━━━━━━━━━━━━\u001b[0m \u001b[32m2.0/2.0 MB\u001b[0m \u001b[31m30.5 MB/s\u001b[0m eta \u001b[36m0:00:00\u001b[0m\n",
      "\u001b[?25hInstalling collected packages: pyphen, textstat\n",
      "Successfully installed pyphen-0.14.0 textstat-0.7.3\n"
     ]
    }
   ],
   "source": [
    "!pip install textstat"
   ]
  },
  {
   "cell_type": "code",
   "execution_count": 3,
   "metadata": {
    "id": "RD0IaD19btRN"
   },
   "outputs": [],
   "source": [
    "import spacy\n",
    "from textstat.textstat import textstatistics\n",
    "from textstat import textstat\n",
    "import pandas as pd"
   ]
  },
  {
   "cell_type": "code",
   "execution_count": 4,
   "metadata": {
    "id": "vjW5COT6buuI"
   },
   "outputs": [],
   "source": [
    "def break_sentences(text):\n",
    "    nlp = spacy.load('en_core_web_sm')\n",
    "    doc = nlp(text)\n",
    "    return list(doc.sents)"
   ]
  },
  {
   "cell_type": "code",
   "execution_count": 5,
   "metadata": {
    "id": "xoR26t2nbv8e"
   },
   "outputs": [],
   "source": [
    "def word_count(text):\n",
    "    sentences = break_sentences(text)\n",
    "    words = 0\n",
    "    for sentence in sentences:\n",
    "        words += len([token for token in sentence])\n",
    "    return words"
   ]
  },
  {
   "cell_type": "code",
   "execution_count": 6,
   "metadata": {
    "id": "JlRexNHIbxo4"
   },
   "outputs": [],
   "source": [
    "def sentence_count(text):\n",
    "    sentences = break_sentences(text)\n",
    "    return len(sentences)"
   ]
  },
  {
   "cell_type": "code",
   "execution_count": 7,
   "metadata": {
    "id": "9MEsUUHab0n8"
   },
   "outputs": [],
   "source": [
    "def syllables_count(word):\n",
    "    return textstatistics().syllable_count(word)"
   ]
  },
  {
   "cell_type": "code",
   "execution_count": 8,
   "metadata": {
    "id": "xUWtAd5vcB64"
   },
   "outputs": [],
   "source": [
    "def flesch_kincaid(text):\n",
    "    num_words = word_count(text)\n",
    "    num_sentences = sentence_count(text)\n",
    "    num_syllables = syllables_count(text)\n",
    "    score =  0.39 * (num_words / num_sentences) + 11.8 * (num_syllables / num_words) - 15.59\n",
    "    return score"
   ]
  },
  {
   "cell_type": "code",
   "execution_count": 9,
   "metadata": {
    "colab": {
     "base_uri": "https://localhost:8080/"
    },
    "id": "B5qJ3HD5i2CK",
    "outputId": "c48579c2-f7db-4b79-bb17-d8e569ced8b0"
   },
   "outputs": [
    {
     "name": "stdout",
     "output_type": "stream",
     "text": [
      "15.786021505376347 7.633846153846157\n"
     ]
    }
   ],
   "source": [
    "text1 = \"account termination policy youtube will terminate a user s access to the service if under appropriate circumstances the user is determined to be a repeat infringer. youtube reserves the right to decide whether content violates these terms of service for reasons other than copyright infringement such as but not limited to pornography obscenity or excessive length. youtube may at any time without prior notice and in its sole discretion remove such content and or terminate a user s account for submitting such material in violation of these terms of service.\"\n",
    "text2 = \"if you infringe copyright multiple times we close your account. if you are in violation of our community guidelines we may do that immediately.\"\n",
    "score_text1 = flesch_kincaid(text1)\n",
    "score_text2 = flesch_kincaid(text2)\n",
    "print(score_text1, score_text2)"
   ]
  },
  {
   "cell_type": "code",
   "execution_count": 10,
   "metadata": {
    "colab": {
     "base_uri": "https://localhost:8080/",
     "height": 206
    },
    "id": "h9O6bJWWcOzh",
    "outputId": "547bf349-47e3-49b8-c7dc-36cd0e696c07"
   },
   "outputs": [
    {
     "data": {
      "text/html": [
       "\n",
       "  <div id=\"df-2b1d5021-dd8b-4ae6-8c18-07b305b7195c\">\n",
       "    <div class=\"colab-df-container\">\n",
       "      <div>\n",
       "<style scoped>\n",
       "    .dataframe tbody tr th:only-of-type {\n",
       "        vertical-align: middle;\n",
       "    }\n",
       "\n",
       "    .dataframe tbody tr th {\n",
       "        vertical-align: top;\n",
       "    }\n",
       "\n",
       "    .dataframe thead th {\n",
       "        text-align: right;\n",
       "    }\n",
       "</style>\n",
       "<table border=\"1\" class=\"dataframe\">\n",
       "  <thead>\n",
       "    <tr style=\"text-align: right;\">\n",
       "      <th></th>\n",
       "      <th>Unnamed: 0</th>\n",
       "      <th>original_text</th>\n",
       "      <th>generated_summary</th>\n",
       "      <th>reference_summary</th>\n",
       "      <th>rouge</th>\n",
       "    </tr>\n",
       "  </thead>\n",
       "  <tbody>\n",
       "    <tr>\n",
       "      <th>0</th>\n",
       "      <td>0</td>\n",
       "      <td>welcome to the pokémon go video game services ...</td>\n",
       "      <td>to make these pokémon go terms of service the ...</td>\n",
       "      <td>hi.</td>\n",
       "      <td>[{'rouge-1': {'r': 0.0, 'p': 0.0, 'f': 0.0}, '...</td>\n",
       "    </tr>\n",
       "    <tr>\n",
       "      <th>1</th>\n",
       "      <td>1</td>\n",
       "      <td>by using our services you are agreeing to thes...</td>\n",
       "      <td>if you are the parent or legal guardian of a c...</td>\n",
       "      <td>by playing this game you agree to these terms....</td>\n",
       "      <td>[{'rouge-1': {'r': 0.7, 'p': 0.35, 'f': 0.4666...</td>\n",
       "    </tr>\n",
       "    <tr>\n",
       "      <th>2</th>\n",
       "      <td>2</td>\n",
       "      <td>if you want to use certain features of the ser...</td>\n",
       "      <td>parents of children under the age of 13 unders...</td>\n",
       "      <td>you have to use google pokemon trainer club or...</td>\n",
       "      <td>[{'rouge-1': {'r': 0.53125, 'p': 0.2125, 'f': ...</td>\n",
       "    </tr>\n",
       "    <tr>\n",
       "      <th>3</th>\n",
       "      <td>3</td>\n",
       "      <td>during game play please be aware of your surro...</td>\n",
       "      <td>without limiting the foregoing you agree that ...</td>\n",
       "      <td>don t die or hurt others and if you do it s no...</td>\n",
       "      <td>[{'rouge-1': {'r': 0.3333333333333333, 'p': 0....</td>\n",
       "    </tr>\n",
       "    <tr>\n",
       "      <th>4</th>\n",
       "      <td>4</td>\n",
       "      <td>subject to your compliance with these terms ni...</td>\n",
       "      <td>if you accessed or downloaded the app from any...</td>\n",
       "      <td>don t copy modify resell distribute or reverse...</td>\n",
       "      <td>[{'rouge-1': {'r': 0.18181818181818182, 'p': 0...</td>\n",
       "    </tr>\n",
       "  </tbody>\n",
       "</table>\n",
       "</div>\n",
       "      <button class=\"colab-df-convert\" onclick=\"convertToInteractive('df-2b1d5021-dd8b-4ae6-8c18-07b305b7195c')\"\n",
       "              title=\"Convert this dataframe to an interactive table.\"\n",
       "              style=\"display:none;\">\n",
       "        \n",
       "  <svg xmlns=\"http://www.w3.org/2000/svg\" height=\"24px\"viewBox=\"0 0 24 24\"\n",
       "       width=\"24px\">\n",
       "    <path d=\"M0 0h24v24H0V0z\" fill=\"none\"/>\n",
       "    <path d=\"M18.56 5.44l.94 2.06.94-2.06 2.06-.94-2.06-.94-.94-2.06-.94 2.06-2.06.94zm-11 1L8.5 8.5l.94-2.06 2.06-.94-2.06-.94L8.5 2.5l-.94 2.06-2.06.94zm10 10l.94 2.06.94-2.06 2.06-.94-2.06-.94-.94-2.06-.94 2.06-2.06.94z\"/><path d=\"M17.41 7.96l-1.37-1.37c-.4-.4-.92-.59-1.43-.59-.52 0-1.04.2-1.43.59L10.3 9.45l-7.72 7.72c-.78.78-.78 2.05 0 2.83L4 21.41c.39.39.9.59 1.41.59.51 0 1.02-.2 1.41-.59l7.78-7.78 2.81-2.81c.8-.78.8-2.07 0-2.86zM5.41 20L4 18.59l7.72-7.72 1.47 1.35L5.41 20z\"/>\n",
       "  </svg>\n",
       "      </button>\n",
       "      \n",
       "  <style>\n",
       "    .colab-df-container {\n",
       "      display:flex;\n",
       "      flex-wrap:wrap;\n",
       "      gap: 12px;\n",
       "    }\n",
       "\n",
       "    .colab-df-convert {\n",
       "      background-color: #E8F0FE;\n",
       "      border: none;\n",
       "      border-radius: 50%;\n",
       "      cursor: pointer;\n",
       "      display: none;\n",
       "      fill: #1967D2;\n",
       "      height: 32px;\n",
       "      padding: 0 0 0 0;\n",
       "      width: 32px;\n",
       "    }\n",
       "\n",
       "    .colab-df-convert:hover {\n",
       "      background-color: #E2EBFA;\n",
       "      box-shadow: 0px 1px 2px rgba(60, 64, 67, 0.3), 0px 1px 3px 1px rgba(60, 64, 67, 0.15);\n",
       "      fill: #174EA6;\n",
       "    }\n",
       "\n",
       "    [theme=dark] .colab-df-convert {\n",
       "      background-color: #3B4455;\n",
       "      fill: #D2E3FC;\n",
       "    }\n",
       "\n",
       "    [theme=dark] .colab-df-convert:hover {\n",
       "      background-color: #434B5C;\n",
       "      box-shadow: 0px 1px 3px 1px rgba(0, 0, 0, 0.15);\n",
       "      filter: drop-shadow(0px 1px 2px rgba(0, 0, 0, 0.3));\n",
       "      fill: #FFFFFF;\n",
       "    }\n",
       "  </style>\n",
       "\n",
       "      <script>\n",
       "        const buttonEl =\n",
       "          document.querySelector('#df-2b1d5021-dd8b-4ae6-8c18-07b305b7195c button.colab-df-convert');\n",
       "        buttonEl.style.display =\n",
       "          google.colab.kernel.accessAllowed ? 'block' : 'none';\n",
       "\n",
       "        async function convertToInteractive(key) {\n",
       "          const element = document.querySelector('#df-2b1d5021-dd8b-4ae6-8c18-07b305b7195c');\n",
       "          const dataTable =\n",
       "            await google.colab.kernel.invokeFunction('convertToInteractive',\n",
       "                                                     [key], {});\n",
       "          if (!dataTable) return;\n",
       "\n",
       "          const docLinkHtml = 'Like what you see? Visit the ' +\n",
       "            '<a target=\"_blank\" href=https://colab.research.google.com/notebooks/data_table.ipynb>data table notebook</a>'\n",
       "            + ' to learn more about interactive tables.';\n",
       "          element.innerHTML = '';\n",
       "          dataTable['output_type'] = 'display_data';\n",
       "          await google.colab.output.renderOutput(dataTable, element);\n",
       "          const docLink = document.createElement('div');\n",
       "          docLink.innerHTML = docLinkHtml;\n",
       "          element.appendChild(docLink);\n",
       "        }\n",
       "      </script>\n",
       "    </div>\n",
       "  </div>\n",
       "  "
      ],
      "text/plain": [
       "   Unnamed: 0                                      original_text  \\\n",
       "0           0  welcome to the pokémon go video game services ...   \n",
       "1           1  by using our services you are agreeing to thes...   \n",
       "2           2  if you want to use certain features of the ser...   \n",
       "3           3  during game play please be aware of your surro...   \n",
       "4           4  subject to your compliance with these terms ni...   \n",
       "\n",
       "                                   generated_summary  \\\n",
       "0  to make these pokémon go terms of service the ...   \n",
       "1  if you are the parent or legal guardian of a c...   \n",
       "2  parents of children under the age of 13 unders...   \n",
       "3  without limiting the foregoing you agree that ...   \n",
       "4  if you accessed or downloaded the app from any...   \n",
       "\n",
       "                                   reference_summary  \\\n",
       "0                                                hi.   \n",
       "1  by playing this game you agree to these terms....   \n",
       "2  you have to use google pokemon trainer club or...   \n",
       "3  don t die or hurt others and if you do it s no...   \n",
       "4  don t copy modify resell distribute or reverse...   \n",
       "\n",
       "                                               rouge  \n",
       "0  [{'rouge-1': {'r': 0.0, 'p': 0.0, 'f': 0.0}, '...  \n",
       "1  [{'rouge-1': {'r': 0.7, 'p': 0.35, 'f': 0.4666...  \n",
       "2  [{'rouge-1': {'r': 0.53125, 'p': 0.2125, 'f': ...  \n",
       "3  [{'rouge-1': {'r': 0.3333333333333333, 'p': 0....  \n",
       "4  [{'rouge-1': {'r': 0.18181818181818182, 'p': 0...  "
      ]
     },
     "execution_count": 10,
     "metadata": {},
     "output_type": "execute_result"
    }
   ],
   "source": [
    "df = pd.read_csv('/content/textrank_summaries.csv')\n",
    "df.head()"
   ]
  },
  {
   "cell_type": "code",
   "execution_count": 11,
   "metadata": {
    "colab": {
     "base_uri": "https://localhost:8080/",
     "height": 206
    },
    "id": "LEZPKOeYcbfI",
    "outputId": "0931cfb9-0955-442b-fc73-1030f01072a8"
   },
   "outputs": [
    {
     "data": {
      "text/html": [
       "\n",
       "  <div id=\"df-85c9852d-9b63-4ce9-886e-94a1b1b4a461\">\n",
       "    <div class=\"colab-df-container\">\n",
       "      <div>\n",
       "<style scoped>\n",
       "    .dataframe tbody tr th:only-of-type {\n",
       "        vertical-align: middle;\n",
       "    }\n",
       "\n",
       "    .dataframe tbody tr th {\n",
       "        vertical-align: top;\n",
       "    }\n",
       "\n",
       "    .dataframe thead th {\n",
       "        text-align: right;\n",
       "    }\n",
       "</style>\n",
       "<table border=\"1\" class=\"dataframe\">\n",
       "  <thead>\n",
       "    <tr style=\"text-align: right;\">\n",
       "      <th></th>\n",
       "      <th>original_text</th>\n",
       "      <th>generated_summary</th>\n",
       "      <th>reference_summary</th>\n",
       "    </tr>\n",
       "  </thead>\n",
       "  <tbody>\n",
       "    <tr>\n",
       "      <th>0</th>\n",
       "      <td>welcome to the pokémon go video game services ...</td>\n",
       "      <td>to make these pokémon go terms of service the ...</td>\n",
       "      <td>hi.</td>\n",
       "    </tr>\n",
       "    <tr>\n",
       "      <th>1</th>\n",
       "      <td>by using our services you are agreeing to thes...</td>\n",
       "      <td>if you are the parent or legal guardian of a c...</td>\n",
       "      <td>by playing this game you agree to these terms....</td>\n",
       "    </tr>\n",
       "    <tr>\n",
       "      <th>2</th>\n",
       "      <td>if you want to use certain features of the ser...</td>\n",
       "      <td>parents of children under the age of 13 unders...</td>\n",
       "      <td>you have to use google pokemon trainer club or...</td>\n",
       "    </tr>\n",
       "    <tr>\n",
       "      <th>3</th>\n",
       "      <td>during game play please be aware of your surro...</td>\n",
       "      <td>without limiting the foregoing you agree that ...</td>\n",
       "      <td>don t die or hurt others and if you do it s no...</td>\n",
       "    </tr>\n",
       "    <tr>\n",
       "      <th>4</th>\n",
       "      <td>subject to your compliance with these terms ni...</td>\n",
       "      <td>if you accessed or downloaded the app from any...</td>\n",
       "      <td>don t copy modify resell distribute or reverse...</td>\n",
       "    </tr>\n",
       "  </tbody>\n",
       "</table>\n",
       "</div>\n",
       "      <button class=\"colab-df-convert\" onclick=\"convertToInteractive('df-85c9852d-9b63-4ce9-886e-94a1b1b4a461')\"\n",
       "              title=\"Convert this dataframe to an interactive table.\"\n",
       "              style=\"display:none;\">\n",
       "        \n",
       "  <svg xmlns=\"http://www.w3.org/2000/svg\" height=\"24px\"viewBox=\"0 0 24 24\"\n",
       "       width=\"24px\">\n",
       "    <path d=\"M0 0h24v24H0V0z\" fill=\"none\"/>\n",
       "    <path d=\"M18.56 5.44l.94 2.06.94-2.06 2.06-.94-2.06-.94-.94-2.06-.94 2.06-2.06.94zm-11 1L8.5 8.5l.94-2.06 2.06-.94-2.06-.94L8.5 2.5l-.94 2.06-2.06.94zm10 10l.94 2.06.94-2.06 2.06-.94-2.06-.94-.94-2.06-.94 2.06-2.06.94z\"/><path d=\"M17.41 7.96l-1.37-1.37c-.4-.4-.92-.59-1.43-.59-.52 0-1.04.2-1.43.59L10.3 9.45l-7.72 7.72c-.78.78-.78 2.05 0 2.83L4 21.41c.39.39.9.59 1.41.59.51 0 1.02-.2 1.41-.59l7.78-7.78 2.81-2.81c.8-.78.8-2.07 0-2.86zM5.41 20L4 18.59l7.72-7.72 1.47 1.35L5.41 20z\"/>\n",
       "  </svg>\n",
       "      </button>\n",
       "      \n",
       "  <style>\n",
       "    .colab-df-container {\n",
       "      display:flex;\n",
       "      flex-wrap:wrap;\n",
       "      gap: 12px;\n",
       "    }\n",
       "\n",
       "    .colab-df-convert {\n",
       "      background-color: #E8F0FE;\n",
       "      border: none;\n",
       "      border-radius: 50%;\n",
       "      cursor: pointer;\n",
       "      display: none;\n",
       "      fill: #1967D2;\n",
       "      height: 32px;\n",
       "      padding: 0 0 0 0;\n",
       "      width: 32px;\n",
       "    }\n",
       "\n",
       "    .colab-df-convert:hover {\n",
       "      background-color: #E2EBFA;\n",
       "      box-shadow: 0px 1px 2px rgba(60, 64, 67, 0.3), 0px 1px 3px 1px rgba(60, 64, 67, 0.15);\n",
       "      fill: #174EA6;\n",
       "    }\n",
       "\n",
       "    [theme=dark] .colab-df-convert {\n",
       "      background-color: #3B4455;\n",
       "      fill: #D2E3FC;\n",
       "    }\n",
       "\n",
       "    [theme=dark] .colab-df-convert:hover {\n",
       "      background-color: #434B5C;\n",
       "      box-shadow: 0px 1px 3px 1px rgba(0, 0, 0, 0.15);\n",
       "      filter: drop-shadow(0px 1px 2px rgba(0, 0, 0, 0.3));\n",
       "      fill: #FFFFFF;\n",
       "    }\n",
       "  </style>\n",
       "\n",
       "      <script>\n",
       "        const buttonEl =\n",
       "          document.querySelector('#df-85c9852d-9b63-4ce9-886e-94a1b1b4a461 button.colab-df-convert');\n",
       "        buttonEl.style.display =\n",
       "          google.colab.kernel.accessAllowed ? 'block' : 'none';\n",
       "\n",
       "        async function convertToInteractive(key) {\n",
       "          const element = document.querySelector('#df-85c9852d-9b63-4ce9-886e-94a1b1b4a461');\n",
       "          const dataTable =\n",
       "            await google.colab.kernel.invokeFunction('convertToInteractive',\n",
       "                                                     [key], {});\n",
       "          if (!dataTable) return;\n",
       "\n",
       "          const docLinkHtml = 'Like what you see? Visit the ' +\n",
       "            '<a target=\"_blank\" href=https://colab.research.google.com/notebooks/data_table.ipynb>data table notebook</a>'\n",
       "            + ' to learn more about interactive tables.';\n",
       "          element.innerHTML = '';\n",
       "          dataTable['output_type'] = 'display_data';\n",
       "          await google.colab.output.renderOutput(dataTable, element);\n",
       "          const docLink = document.createElement('div');\n",
       "          docLink.innerHTML = docLinkHtml;\n",
       "          element.appendChild(docLink);\n",
       "        }\n",
       "      </script>\n",
       "    </div>\n",
       "  </div>\n",
       "  "
      ],
      "text/plain": [
       "                                       original_text  \\\n",
       "0  welcome to the pokémon go video game services ...   \n",
       "1  by using our services you are agreeing to thes...   \n",
       "2  if you want to use certain features of the ser...   \n",
       "3  during game play please be aware of your surro...   \n",
       "4  subject to your compliance with these terms ni...   \n",
       "\n",
       "                                   generated_summary  \\\n",
       "0  to make these pokémon go terms of service the ...   \n",
       "1  if you are the parent or legal guardian of a c...   \n",
       "2  parents of children under the age of 13 unders...   \n",
       "3  without limiting the foregoing you agree that ...   \n",
       "4  if you accessed or downloaded the app from any...   \n",
       "\n",
       "                                   reference_summary  \n",
       "0                                                hi.  \n",
       "1  by playing this game you agree to these terms....  \n",
       "2  you have to use google pokemon trainer club or...  \n",
       "3  don t die or hurt others and if you do it s no...  \n",
       "4  don t copy modify resell distribute or reverse...  "
      ]
     },
     "execution_count": 11,
     "metadata": {},
     "output_type": "execute_result"
    }
   ],
   "source": [
    "to_drop = ['Unnamed: 0', 'rouge']\n",
    "df.drop(to_drop, axis = 1, inplace = True)\n",
    "df.head()"
   ]
  },
  {
   "cell_type": "code",
   "execution_count": 12,
   "metadata": {
    "id": "va9pgSjPcdX_"
   },
   "outputs": [],
   "source": [
    "df['Original Text Score'] = df['original_text'].apply(flesch_kincaid)\n",
    "df['Generated Text Score'] = df['generated_summary'].apply(flesch_kincaid)\n",
    "df['Reference Summary Score'] = df['reference_summary'].apply(flesch_kincaid)"
   ]
  },
  {
   "cell_type": "code",
   "execution_count": 13,
   "metadata": {
    "colab": {
     "base_uri": "https://localhost:8080/",
     "height": 354
    },
    "id": "bsYVr679cfEk",
    "outputId": "edc1f7f1-9a08-471b-c703-5f2793d95db6"
   },
   "outputs": [
    {
     "data": {
      "text/html": [
       "\n",
       "  <div id=\"df-3f830213-a745-4410-9302-f4b8c09cd414\">\n",
       "    <div class=\"colab-df-container\">\n",
       "      <div>\n",
       "<style scoped>\n",
       "    .dataframe tbody tr th:only-of-type {\n",
       "        vertical-align: middle;\n",
       "    }\n",
       "\n",
       "    .dataframe tbody tr th {\n",
       "        vertical-align: top;\n",
       "    }\n",
       "\n",
       "    .dataframe thead th {\n",
       "        text-align: right;\n",
       "    }\n",
       "</style>\n",
       "<table border=\"1\" class=\"dataframe\">\n",
       "  <thead>\n",
       "    <tr style=\"text-align: right;\">\n",
       "      <th></th>\n",
       "      <th>original_text</th>\n",
       "      <th>generated_summary</th>\n",
       "      <th>reference_summary</th>\n",
       "      <th>Original Text Score</th>\n",
       "      <th>Generated Text Score</th>\n",
       "      <th>Reference Summary Score</th>\n",
       "    </tr>\n",
       "  </thead>\n",
       "  <tbody>\n",
       "    <tr>\n",
       "      <th>0</th>\n",
       "      <td>welcome to the pokémon go video game services ...</td>\n",
       "      <td>to make these pokémon go terms of service the ...</td>\n",
       "      <td>hi.</td>\n",
       "      <td>12.749048</td>\n",
       "      <td>25.996721</td>\n",
       "      <td>-8.910000</td>\n",
       "    </tr>\n",
       "    <tr>\n",
       "      <th>1</th>\n",
       "      <td>by using our services you are agreeing to thes...</td>\n",
       "      <td>if you are the parent or legal guardian of a c...</td>\n",
       "      <td>by playing this game you agree to these terms....</td>\n",
       "      <td>11.404545</td>\n",
       "      <td>26.374118</td>\n",
       "      <td>2.501000</td>\n",
       "    </tr>\n",
       "    <tr>\n",
       "      <th>2</th>\n",
       "      <td>if you want to use certain features of the ser...</td>\n",
       "      <td>parents of children under the age of 13 unders...</td>\n",
       "      <td>you have to use google pokemon trainer club or...</td>\n",
       "      <td>15.043356</td>\n",
       "      <td>52.417600</td>\n",
       "      <td>4.198571</td>\n",
       "    </tr>\n",
       "    <tr>\n",
       "      <th>3</th>\n",
       "      <td>during game play please be aware of your surro...</td>\n",
       "      <td>without limiting the foregoing you agree that ...</td>\n",
       "      <td>don t die or hurt others and if you do it s no...</td>\n",
       "      <td>24.990303</td>\n",
       "      <td>59.758129</td>\n",
       "      <td>2.450000</td>\n",
       "    </tr>\n",
       "    <tr>\n",
       "      <th>4</th>\n",
       "      <td>subject to your compliance with these terms ni...</td>\n",
       "      <td>if you accessed or downloaded the app from any...</td>\n",
       "      <td>don t copy modify resell distribute or reverse...</td>\n",
       "      <td>20.626128</td>\n",
       "      <td>48.221667</td>\n",
       "      <td>7.773333</td>\n",
       "    </tr>\n",
       "  </tbody>\n",
       "</table>\n",
       "</div>\n",
       "      <button class=\"colab-df-convert\" onclick=\"convertToInteractive('df-3f830213-a745-4410-9302-f4b8c09cd414')\"\n",
       "              title=\"Convert this dataframe to an interactive table.\"\n",
       "              style=\"display:none;\">\n",
       "        \n",
       "  <svg xmlns=\"http://www.w3.org/2000/svg\" height=\"24px\"viewBox=\"0 0 24 24\"\n",
       "       width=\"24px\">\n",
       "    <path d=\"M0 0h24v24H0V0z\" fill=\"none\"/>\n",
       "    <path d=\"M18.56 5.44l.94 2.06.94-2.06 2.06-.94-2.06-.94-.94-2.06-.94 2.06-2.06.94zm-11 1L8.5 8.5l.94-2.06 2.06-.94-2.06-.94L8.5 2.5l-.94 2.06-2.06.94zm10 10l.94 2.06.94-2.06 2.06-.94-2.06-.94-.94-2.06-.94 2.06-2.06.94z\"/><path d=\"M17.41 7.96l-1.37-1.37c-.4-.4-.92-.59-1.43-.59-.52 0-1.04.2-1.43.59L10.3 9.45l-7.72 7.72c-.78.78-.78 2.05 0 2.83L4 21.41c.39.39.9.59 1.41.59.51 0 1.02-.2 1.41-.59l7.78-7.78 2.81-2.81c.8-.78.8-2.07 0-2.86zM5.41 20L4 18.59l7.72-7.72 1.47 1.35L5.41 20z\"/>\n",
       "  </svg>\n",
       "      </button>\n",
       "      \n",
       "  <style>\n",
       "    .colab-df-container {\n",
       "      display:flex;\n",
       "      flex-wrap:wrap;\n",
       "      gap: 12px;\n",
       "    }\n",
       "\n",
       "    .colab-df-convert {\n",
       "      background-color: #E8F0FE;\n",
       "      border: none;\n",
       "      border-radius: 50%;\n",
       "      cursor: pointer;\n",
       "      display: none;\n",
       "      fill: #1967D2;\n",
       "      height: 32px;\n",
       "      padding: 0 0 0 0;\n",
       "      width: 32px;\n",
       "    }\n",
       "\n",
       "    .colab-df-convert:hover {\n",
       "      background-color: #E2EBFA;\n",
       "      box-shadow: 0px 1px 2px rgba(60, 64, 67, 0.3), 0px 1px 3px 1px rgba(60, 64, 67, 0.15);\n",
       "      fill: #174EA6;\n",
       "    }\n",
       "\n",
       "    [theme=dark] .colab-df-convert {\n",
       "      background-color: #3B4455;\n",
       "      fill: #D2E3FC;\n",
       "    }\n",
       "\n",
       "    [theme=dark] .colab-df-convert:hover {\n",
       "      background-color: #434B5C;\n",
       "      box-shadow: 0px 1px 3px 1px rgba(0, 0, 0, 0.15);\n",
       "      filter: drop-shadow(0px 1px 2px rgba(0, 0, 0, 0.3));\n",
       "      fill: #FFFFFF;\n",
       "    }\n",
       "  </style>\n",
       "\n",
       "      <script>\n",
       "        const buttonEl =\n",
       "          document.querySelector('#df-3f830213-a745-4410-9302-f4b8c09cd414 button.colab-df-convert');\n",
       "        buttonEl.style.display =\n",
       "          google.colab.kernel.accessAllowed ? 'block' : 'none';\n",
       "\n",
       "        async function convertToInteractive(key) {\n",
       "          const element = document.querySelector('#df-3f830213-a745-4410-9302-f4b8c09cd414');\n",
       "          const dataTable =\n",
       "            await google.colab.kernel.invokeFunction('convertToInteractive',\n",
       "                                                     [key], {});\n",
       "          if (!dataTable) return;\n",
       "\n",
       "          const docLinkHtml = 'Like what you see? Visit the ' +\n",
       "            '<a target=\"_blank\" href=https://colab.research.google.com/notebooks/data_table.ipynb>data table notebook</a>'\n",
       "            + ' to learn more about interactive tables.';\n",
       "          element.innerHTML = '';\n",
       "          dataTable['output_type'] = 'display_data';\n",
       "          await google.colab.output.renderOutput(dataTable, element);\n",
       "          const docLink = document.createElement('div');\n",
       "          docLink.innerHTML = docLinkHtml;\n",
       "          element.appendChild(docLink);\n",
       "        }\n",
       "      </script>\n",
       "    </div>\n",
       "  </div>\n",
       "  "
      ],
      "text/plain": [
       "                                       original_text  \\\n",
       "0  welcome to the pokémon go video game services ...   \n",
       "1  by using our services you are agreeing to thes...   \n",
       "2  if you want to use certain features of the ser...   \n",
       "3  during game play please be aware of your surro...   \n",
       "4  subject to your compliance with these terms ni...   \n",
       "\n",
       "                                   generated_summary  \\\n",
       "0  to make these pokémon go terms of service the ...   \n",
       "1  if you are the parent or legal guardian of a c...   \n",
       "2  parents of children under the age of 13 unders...   \n",
       "3  without limiting the foregoing you agree that ...   \n",
       "4  if you accessed or downloaded the app from any...   \n",
       "\n",
       "                                   reference_summary  Original Text Score  \\\n",
       "0                                                hi.            12.749048   \n",
       "1  by playing this game you agree to these terms....            11.404545   \n",
       "2  you have to use google pokemon trainer club or...            15.043356   \n",
       "3  don t die or hurt others and if you do it s no...            24.990303   \n",
       "4  don t copy modify resell distribute or reverse...            20.626128   \n",
       "\n",
       "   Generated Text Score  Reference Summary Score  \n",
       "0             25.996721                -8.910000  \n",
       "1             26.374118                 2.501000  \n",
       "2             52.417600                 4.198571  \n",
       "3             59.758129                 2.450000  \n",
       "4             48.221667                 7.773333  "
      ]
     },
     "execution_count": 13,
     "metadata": {},
     "output_type": "execute_result"
    }
   ],
   "source": [
    "df.head()"
   ]
  },
  {
   "cell_type": "code",
   "execution_count": 14,
   "metadata": {
    "colab": {
     "base_uri": "https://localhost:8080/"
    },
    "id": "5VqnO6oVhJOR",
    "outputId": "8c18a622-e86b-475a-fb88-6747a31b62b5"
   },
   "outputs": [
    {
     "name": "stdout",
     "output_type": "stream",
     "text": [
      "For Original Text\n",
      "Minimum Readability Score -0.86\n",
      "Maximum Readability Score 69.52\n",
      "Mean for Readability Score 14.57\n"
     ]
    }
   ],
   "source": [
    "min_val = round(df['Original Text Score'].min(), 2)\n",
    "max_val = round(df['Original Text Score'].max(), 2)\n",
    "mean_val = round(df['Original Text Score'].mean(), 2)\n",
    "print('For Original Text')\n",
    "print('Minimum Readability Score', min_val)\n",
    "print('Maximum Readability Score', max_val)\n",
    "print('Mean for Readability Score', mean_val)"
   ]
  },
  {
   "cell_type": "code",
   "execution_count": 15,
   "metadata": {
    "colab": {
     "base_uri": "https://localhost:8080/"
    },
    "id": "ArF_b46EhoIu",
    "outputId": "d70a1fa2-5403-4c8e-d15a-e559e6c91fbb"
   },
   "outputs": [
    {
     "name": "stdout",
     "output_type": "stream",
     "text": [
      "For Reference Summary\n",
      "Minimum Readability Score -8.91\n",
      "Maximum Readability Score 22.79\n",
      "Mean for Readability Score 6.38\n"
     ]
    }
   ],
   "source": [
    "min_val = round(df['Reference Summary Score'].min(), 2)\n",
    "max_val = round(df['Reference Summary Score'].max(), 2)\n",
    "mean_val = round(df['Reference Summary Score'].mean(), 2)\n",
    "print('For Reference Summary')\n",
    "print('Minimum Readability Score', min_val)\n",
    "print('Maximum Readability Score', max_val)\n",
    "print('Mean for Readability Score', mean_val)"
   ]
  },
  {
   "cell_type": "code",
   "execution_count": 16,
   "metadata": {
    "colab": {
     "base_uri": "https://localhost:8080/"
    },
    "id": "4QmVmEj1hzGH",
    "outputId": "cedb10a3-0917-4b44-c103-713986343ebb"
   },
   "outputs": [
    {
     "name": "stdout",
     "output_type": "stream",
     "text": [
      "For Generated Text\n",
      "Minimum Readability Score 1.29\n",
      "Maximum Readability Score 293.59\n",
      "Mean for Readability Score 24.65\n"
     ]
    }
   ],
   "source": [
    "min_val = round(df['Generated Text Score'].min(), 2)\n",
    "max_val = round(df['Generated Text Score'].max(), 2)\n",
    "mean_val = round(df['Generated Text Score'].mean(), 2)\n",
    "print('For Generated Text')\n",
    "print('Minimum Readability Score', min_val)\n",
    "print('Maximum Readability Score', max_val)\n",
    "print('Mean for Readability Score', mean_val)"
   ]
  },
  {
   "cell_type": "code",
   "execution_count": null,
   "metadata": {
    "id": "a_yPgg9Pld4Z"
   },
   "outputs": [],
   "source": []
  }
 ],
 "metadata": {
  "colab": {
   "provenance": []
  },
  "kernelspec": {
   "display_name": "Python 3 (ipykernel)",
   "language": "python",
   "name": "python3"
  },
  "language_info": {
   "codemirror_mode": {
    "name": "ipython",
    "version": 3
   },
   "file_extension": ".py",
   "mimetype": "text/x-python",
   "name": "python",
   "nbconvert_exporter": "python",
   "pygments_lexer": "ipython3",
   "version": "3.9.12"
  }
 },
 "nbformat": 4,
 "nbformat_minor": 1
}

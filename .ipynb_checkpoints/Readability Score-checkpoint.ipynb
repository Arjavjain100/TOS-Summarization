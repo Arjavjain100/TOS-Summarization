{
 "cells": [
  {
   "cell_type": "code",
   "execution_count": 1,
   "id": "0486f8d0-d25a-4d76-a81f-478f241c5ca5",
   "metadata": {},
   "outputs": [],
   "source": [
    "import spacy\n",
    "from textstat.textstat import textstatistics\n",
    "from textstat import textstat"
   ]
  },
  {
   "cell_type": "markdown",
   "id": "03f0906f-14e0-4638-85f1-6f862ed6765c",
   "metadata": {},
   "source": [
    "Generral steps to apply the formula:-\n",
    "<ul>\n",
    "    <li>Select several 100-word samples throughout the text. </li>\n",
    "    <li>Compute the average sentence length in words (divide the number of words by the number of sentences).</li> \n",
    "    <li>Compute the percentage of words NOT on the Dale–Chall word list of 3, 000 easy words.</li> \n",
    "    <li>Compute the respective equations</li> \n",
    "</ul> "
   ]
  },
  {
   "cell_type": "code",
   "execution_count": 3,
   "id": "6d8cd957-b222-497e-8de5-512f4fd60a4e",
   "metadata": {},
   "outputs": [],
   "source": [
    "def break_sentences(text):\n",
    "    nlp = spacy.load('en_core_web_sm')\n",
    "    doc = nlp(text)\n",
    "    return list(doc.sents)"
   ]
  },
  {
   "cell_type": "code",
   "execution_count": 4,
   "id": "fe51e32e-d34e-4748-a10d-c3b479b72e78",
   "metadata": {},
   "outputs": [],
   "source": [
    "def word_count(text):\n",
    "    sentences = break_sentences(text)\n",
    "    words = 0\n",
    "    for sentence in sentences:\n",
    "        words += len([token for token in sentence])\n",
    "    return words"
   ]
  },
  {
   "cell_type": "code",
   "execution_count": 5,
   "id": "98492431-6e1a-49ec-8bbe-c67a338a5542",
   "metadata": {},
   "outputs": [],
   "source": [
    "def sentence_count(text):\n",
    "    sentences = break_sentences(text)\n",
    "    return len(sentences)"
   ]
  },
  {
   "cell_type": "code",
   "execution_count": 6,
   "id": "eb50ec1a-0659-4edd-a8d8-938130fedd46",
   "metadata": {},
   "outputs": [],
   "source": [
    "def avg_sentence_length(text):\n",
    "    words = word_count(text)\n",
    "    sentences = sentence_count(text)\n",
    "    average_sentence_length = float(words / sentences)\n",
    "    return average_sentence_length"
   ]
  },
  {
   "cell_type": "code",
   "execution_count": 7,
   "id": "a7b48fc4-8e13-401d-b317-fc2f058809e7",
   "metadata": {},
   "outputs": [],
   "source": [
    "def syllables_count(word):\n",
    "    return textstatistics().syllable_count(word)"
   ]
  },
  {
   "cell_type": "code",
   "execution_count": 9,
   "id": "6115b18d-f6e0-4270-9e86-ed26b95543c7",
   "metadata": {},
   "outputs": [],
   "source": [
    "def difficult_words(text):\n",
    "     \n",
    "    nlp = spacy.load('en_core_web_sm')\n",
    "    doc = nlp(text)\n",
    "    \n",
    "    words = []\n",
    "    sentences = break_sentences(text)\n",
    "    for sentence in sentences:\n",
    "        words += [str(token) for token in sentence]\n",
    " \n",
    "    # difficult words are those with syllables >= 2 \n",
    "    # easy_word_set is provide by Textstat as a list of common words\n",
    "    diff_words_set = set()\n",
    "     \n",
    "    for word in words:\n",
    "        syllable_count = syllables_count(word)\n",
    "        if word not in nlp.Defaults.stop_words and syllable_count >= 2:\n",
    "            diff_words_set.add(word)\n",
    " \n",
    "    return len(diff_words_set)"
   ]
  },
  {
   "cell_type": "code",
   "execution_count": 10,
   "id": "b3491f64-b9cb-40f1-ba54-f57822ad596c",
   "metadata": {},
   "outputs": [],
   "source": [
    "# A word is polysyllablic if it has more than 3 syllables. \n",
    "def poly_syllable_count(text):\n",
    "    count = 0\n",
    "    words = []\n",
    "    sentences = break_sentences(text)\n",
    "    for sentence in sentences:\n",
    "        words += [token for token in sentence]\n",
    "     \n",
    " \n",
    "    for word in words:\n",
    "        syllable_count = syllables_count(word)\n",
    "        if syllable_count >= 3:\n",
    "            count += 1\n",
    "    return count"
   ]
  },
  {
   "cell_type": "markdown",
   "id": "47d24ea4-f05d-4aee-aa9d-e7ac8a6ae83d",
   "metadata": {},
   "source": [
    "### Gunning Fog\n",
    "The Gunning fog index measures the readability of English writing. The index estimates the years of formal education needed to understand the text on a first reading. A fog index of 12 requires the reading level of a U.S. high school senior (around 18 years old). <br> <br>\n",
    "Grade level= 0.4 * ( (average sentence length) + (percentage of Hard Words))<br>\n",
    "&nbsp; &nbsp; Here, Hard Words = words with more than two syllables. "
   ]
  },
  {
   "cell_type": "code",
   "execution_count": 11,
   "id": "69085dbe-71b9-481b-96da-fd5f8cafde5b",
   "metadata": {},
   "outputs": [],
   "source": [
    "def gunning_fog(text):\n",
    "    per_diff_words = (difficult_words(text) / word_count(text) * 100) + 5\n",
    "    grade = 0.4 * (avg_sentence_length(text) + per_diff_words)\n",
    "    return grade"
   ]
  },
  {
   "cell_type": "code",
   "execution_count": 12,
   "id": "aed33172-c821-4905-929d-278260bd10ed",
   "metadata": {},
   "outputs": [
    {
     "name": "stdout",
     "output_type": "stream",
     "text": [
      "27.30322580645161 19.50769230769231\n"
     ]
    }
   ],
   "source": [
    "text1 = \"account termination policy youtube will terminate a user s access to the service if under appropriate circumstances the user is determined to be a repeat infringer. youtube reserves the right to decide whether content violates these terms of service for reasons other than copyright infringement such as but not limited to pornography obscenity or excessive length. youtube may at any time without prior notice and in its sole discretion remove such content and or terminate a user s account for submitting such material in violation of these terms of service.\"\n",
    "text2 = \"if you infringe copyright multiple times we close your account. if you are in violation of our community guidelines we may do that immediately.\"\n",
    "score_text1 = gunning_fog(text1)\n",
    "score_text2 = gunning_fog(text2)\n",
    "print(score_text1, score_text2)"
   ]
  },
  {
   "cell_type": "markdown",
   "id": "3782b17b-66a5-4a7e-9d75-e6702776eb42",
   "metadata": {},
   "source": [
    "### Flesch-Kincaid Grade Level\n",
    "The U.S. Army uses Flesch-Kincaid Grade Level for assessing the difficulty of technical manuals. The commonwealth of Pennsylvania uses Flesch-Kincaid Grade Level for scoring automobile insurance policies to ensure their texts are no higher than a ninth grade level of reading difficulty. Many other U.S. states also use Flesch-Kincaid Grade Level to score other legal documents such as business policies and financial forms."
   ]
  },
  {
   "cell_type": "code",
   "execution_count": 14,
   "id": "046683ec-5d29-42e6-a8af-220bbbbee8b6",
   "metadata": {},
   "outputs": [],
   "source": [
    "def flesch_kincaid(text):\n",
    "    num_words = word_count(text)\n",
    "    num_sentences = sentence_count(text)\n",
    "    num_syllables = syllables_count(text)\n",
    "    score =  0.39 * (num_words / num_sentences) + 11.8 * (num_syllables / num_words) - 15.59\n",
    "    return score"
   ]
  },
  {
   "cell_type": "code",
   "execution_count": 15,
   "id": "04808f1c-bd1a-4bf6-af17-840c49041623",
   "metadata": {},
   "outputs": [
    {
     "name": "stdout",
     "output_type": "stream",
     "text": [
      "15.786021505376347 7.633846153846157\n"
     ]
    }
   ],
   "source": [
    "text1 = \"account termination policy youtube will terminate a user s access to the service if under appropriate circumstances the user is determined to be a repeat infringer. youtube reserves the right to decide whether content violates these terms of service for reasons other than copyright infringement such as but not limited to pornography obscenity or excessive length. youtube may at any time without prior notice and in its sole discretion remove such content and or terminate a user s account for submitting such material in violation of these terms of service.\"\n",
    "text2 = \"if you infringe copyright multiple times we close your account. if you are in violation of our community guidelines we may do that immediately.\"\n",
    "score_text1 = flesch_kincaid(text1)\n",
    "score_text2 = flesch_kincaid(text2)\n",
    "print(score_text1, score_text2)"
   ]
  },
  {
   "cell_type": "markdown",
   "id": "1011ce5d-f728-4aee-8909-3ce59755a724",
   "metadata": {},
   "source": [
    "### Automated Readability Index (ARI)\n",
    "Unlike the other indices, the ARI, along with the Coleman-Liau, relies on a factor of characters per word, instead of the usual syllables per word. ARI is widely used on all types of texts."
   ]
  },
  {
   "cell_type": "code",
   "execution_count": 16,
   "id": "b9f82d5f-fa3e-433e-9c37-d8d64c8db29c",
   "metadata": {},
   "outputs": [],
   "source": [
    "def ARI(text):\n",
    "    num_characters = len(text)\n",
    "    num_words = word_count(text)\n",
    "    num_sentences = sentence_count(text)\n",
    "    score = 4.71 * (num_characters / num_words) + 0.5 * (num_words / num_sentences) - 21.43\n",
    "    return score"
   ]
  },
  {
   "cell_type": "code",
   "execution_count": 17,
   "id": "26da0a1d-03ac-4e07-9c6e-aa08d966a682",
   "metadata": {},
   "outputs": [
    {
     "name": "stdout",
     "output_type": "stream",
     "text": [
      "22.431290322580644 10.975000000000001\n"
     ]
    }
   ],
   "source": [
    "text1 = \"account termination policy youtube will terminate a user s access to the service if under appropriate circumstances the user is determined to be a repeat infringer. youtube reserves the right to decide whether content violates these terms of service for reasons other than copyright infringement such as but not limited to pornography obscenity or excessive length. youtube may at any time without prior notice and in its sole discretion remove such content and or terminate a user s account for submitting such material in violation of these terms of service.\"\n",
    "text2 = \"if you infringe copyright multiple times we close your account. if you are in violation of our community guidelines we may do that immediately.\"\n",
    "score_text1 = ARI(text1)\n",
    "score_text2 = ARI(text2)\n",
    "print(score_text1, score_text2)"
   ]
  },
  {
   "cell_type": "code",
   "execution_count": null,
   "id": "dcc6afa1-290f-47d2-9f1f-680d0bc1bd54",
   "metadata": {},
   "outputs": [],
   "source": []
  }
 ],
 "metadata": {
  "kernelspec": {
   "display_name": "minor",
   "language": "python",
   "name": "minor"
  },
  "language_info": {
   "codemirror_mode": {
    "name": "ipython",
    "version": 3
   },
   "file_extension": ".py",
   "mimetype": "text/x-python",
   "name": "python",
   "nbconvert_exporter": "python",
   "pygments_lexer": "ipython3",
   "version": "3.10.4"
  }
 },
 "nbformat": 4,
 "nbformat_minor": 5
}

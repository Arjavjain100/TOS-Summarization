{
  "nbformat": 4,
  "nbformat_minor": 0,
  "metadata": {
    "colab": {
      "provenance": [],
      "authorship_tag": "ABX9TyPyr/3zuhmP8zmcs9goUPWo",
      "include_colab_link": true
    },
    "kernelspec": {
      "name": "python3",
      "display_name": "Python 3"
    },
    "language_info": {
      "name": "python"
    }
  },
  "cells": [
    {
      "cell_type": "markdown",
      "metadata": {
        "id": "view-in-github",
        "colab_type": "text"
      },
      "source": [
        "<a href=\"https://colab.research.google.com/github/Arjavjain100/TOS-Summarization/blob/main/TOS_Summarization.ipynb\" target=\"_parent\"><img src=\"https://colab.research.google.com/assets/colab-badge.svg\" alt=\"Open In Colab\"/></a>"
      ]
    },
    {
      "cell_type": "markdown",
      "source": [
        "### Notebook for Pre-proccessing the dataset\n",
        "\n",
        "\n",
        "\n",
        "\n",
        "\n",
        "\n",
        "\n",
        "\n"
      ],
      "metadata": {
        "id": "-ATbdjbhjr_O"
      }
    },
    {
      "cell_type": "markdown",
      "source": [
        "Downloading the dataset from github\n",
        "\n"
      ],
      "metadata": {
        "id": "AfmiTChGj4eD"
      }
    },
    {
      "cell_type": "code",
      "source": [
        "!git clone \"https://github.com/Arjavjain100/TOS-Summarization.git\""
      ],
      "metadata": {
        "colab": {
          "base_uri": "https://localhost:8080/"
        },
        "id": "zMei2XtXrRR2",
        "outputId": "4dc63fcd-8526-4e85-b418-3ea4e1b1ab82"
      },
      "execution_count": 76,
      "outputs": [
        {
          "output_type": "stream",
          "name": "stdout",
          "text": [
            "fatal: destination path 'TOS-Summarization' already exists and is not an empty directory.\n"
          ]
        }
      ]
    },
    {
      "cell_type": "markdown",
      "source": [],
      "metadata": {
        "id": "yCLglhjVUy1w"
      }
    },
    {
      "cell_type": "markdown",
      "source": [
        "Importing required libraries\n",
        "\n",
        "\n"
      ],
      "metadata": {
        "id": "OnpXnFxUkGZ5"
      }
    },
    {
      "cell_type": "code",
      "execution_count": 111,
      "metadata": {
        "id": "u5EgT-ALqShs"
      },
      "outputs": [],
      "source": [
        "import nltk\n",
        "from nltk.corpus import stopwords\n",
        "from nltk.corpus import wordnet\n",
        "from nltk.tokenize import sent_tokenize, word_tokenize\n",
        "from nltk import pos_tag\n",
        "from nltk import WordNetLemmatizer\n",
        "import pandas as pd\n",
        "import numpy as np\n",
        "import re"
      ]
    },
    {
      "cell_type": "code",
      "source": [
        "nltk.download('all')"
      ],
      "metadata": {
        "colab": {
          "base_uri": "https://localhost:8080/"
        },
        "id": "XoMkMn44OY9V",
        "outputId": "74113b5d-25ba-4f11-9847-cb42b268ff77"
      },
      "execution_count": 78,
      "outputs": [
        {
          "output_type": "stream",
          "name": "stderr",
          "text": [
            "[nltk_data] Downloading collection 'all'\n",
            "[nltk_data]    | \n",
            "[nltk_data]    | Downloading package abc to /root/nltk_data...\n",
            "[nltk_data]    |   Package abc is already up-to-date!\n",
            "[nltk_data]    | Downloading package alpino to /root/nltk_data...\n",
            "[nltk_data]    |   Package alpino is already up-to-date!\n",
            "[nltk_data]    | Downloading package averaged_perceptron_tagger to\n",
            "[nltk_data]    |     /root/nltk_data...\n",
            "[nltk_data]    |   Package averaged_perceptron_tagger is already up-\n",
            "[nltk_data]    |       to-date!\n",
            "[nltk_data]    | Downloading package averaged_perceptron_tagger_ru to\n",
            "[nltk_data]    |     /root/nltk_data...\n",
            "[nltk_data]    |   Package averaged_perceptron_tagger_ru is already\n",
            "[nltk_data]    |       up-to-date!\n",
            "[nltk_data]    | Downloading package basque_grammars to\n",
            "[nltk_data]    |     /root/nltk_data...\n",
            "[nltk_data]    |   Package basque_grammars is already up-to-date!\n",
            "[nltk_data]    | Downloading package bcp47 to /root/nltk_data...\n",
            "[nltk_data]    |   Package bcp47 is already up-to-date!\n",
            "[nltk_data]    | Downloading package biocreative_ppi to\n",
            "[nltk_data]    |     /root/nltk_data...\n",
            "[nltk_data]    |   Package biocreative_ppi is already up-to-date!\n",
            "[nltk_data]    | Downloading package bllip_wsj_no_aux to\n",
            "[nltk_data]    |     /root/nltk_data...\n",
            "[nltk_data]    |   Package bllip_wsj_no_aux is already up-to-date!\n",
            "[nltk_data]    | Downloading package book_grammars to\n",
            "[nltk_data]    |     /root/nltk_data...\n",
            "[nltk_data]    |   Package book_grammars is already up-to-date!\n",
            "[nltk_data]    | Downloading package brown to /root/nltk_data...\n",
            "[nltk_data]    |   Package brown is already up-to-date!\n",
            "[nltk_data]    | Downloading package brown_tei to /root/nltk_data...\n",
            "[nltk_data]    |   Package brown_tei is already up-to-date!\n",
            "[nltk_data]    | Downloading package cess_cat to /root/nltk_data...\n",
            "[nltk_data]    |   Package cess_cat is already up-to-date!\n",
            "[nltk_data]    | Downloading package cess_esp to /root/nltk_data...\n",
            "[nltk_data]    |   Package cess_esp is already up-to-date!\n",
            "[nltk_data]    | Downloading package chat80 to /root/nltk_data...\n",
            "[nltk_data]    |   Package chat80 is already up-to-date!\n",
            "[nltk_data]    | Downloading package city_database to\n",
            "[nltk_data]    |     /root/nltk_data...\n",
            "[nltk_data]    |   Package city_database is already up-to-date!\n",
            "[nltk_data]    | Downloading package cmudict to /root/nltk_data...\n",
            "[nltk_data]    |   Package cmudict is already up-to-date!\n",
            "[nltk_data]    | Downloading package comparative_sentences to\n",
            "[nltk_data]    |     /root/nltk_data...\n",
            "[nltk_data]    |   Package comparative_sentences is already up-to-\n",
            "[nltk_data]    |       date!\n",
            "[nltk_data]    | Downloading package comtrans to /root/nltk_data...\n",
            "[nltk_data]    |   Package comtrans is already up-to-date!\n",
            "[nltk_data]    | Downloading package conll2000 to /root/nltk_data...\n",
            "[nltk_data]    |   Package conll2000 is already up-to-date!\n",
            "[nltk_data]    | Downloading package conll2002 to /root/nltk_data...\n",
            "[nltk_data]    |   Package conll2002 is already up-to-date!\n",
            "[nltk_data]    | Downloading package conll2007 to /root/nltk_data...\n",
            "[nltk_data]    |   Package conll2007 is already up-to-date!\n",
            "[nltk_data]    | Downloading package crubadan to /root/nltk_data...\n",
            "[nltk_data]    |   Package crubadan is already up-to-date!\n",
            "[nltk_data]    | Downloading package dependency_treebank to\n",
            "[nltk_data]    |     /root/nltk_data...\n",
            "[nltk_data]    |   Package dependency_treebank is already up-to-date!\n",
            "[nltk_data]    | Downloading package dolch to /root/nltk_data...\n",
            "[nltk_data]    |   Package dolch is already up-to-date!\n",
            "[nltk_data]    | Downloading package europarl_raw to\n",
            "[nltk_data]    |     /root/nltk_data...\n",
            "[nltk_data]    |   Package europarl_raw is already up-to-date!\n",
            "[nltk_data]    | Downloading package extended_omw to\n",
            "[nltk_data]    |     /root/nltk_data...\n",
            "[nltk_data]    |   Package extended_omw is already up-to-date!\n",
            "[nltk_data]    | Downloading package floresta to /root/nltk_data...\n",
            "[nltk_data]    |   Package floresta is already up-to-date!\n",
            "[nltk_data]    | Downloading package framenet_v15 to\n",
            "[nltk_data]    |     /root/nltk_data...\n",
            "[nltk_data]    |   Package framenet_v15 is already up-to-date!\n",
            "[nltk_data]    | Downloading package framenet_v17 to\n",
            "[nltk_data]    |     /root/nltk_data...\n",
            "[nltk_data]    |   Package framenet_v17 is already up-to-date!\n",
            "[nltk_data]    | Downloading package gazetteers to /root/nltk_data...\n",
            "[nltk_data]    |   Package gazetteers is already up-to-date!\n",
            "[nltk_data]    | Downloading package genesis to /root/nltk_data...\n",
            "[nltk_data]    |   Package genesis is already up-to-date!\n",
            "[nltk_data]    | Downloading package gutenberg to /root/nltk_data...\n",
            "[nltk_data]    |   Package gutenberg is already up-to-date!\n",
            "[nltk_data]    | Downloading package ieer to /root/nltk_data...\n",
            "[nltk_data]    |   Package ieer is already up-to-date!\n",
            "[nltk_data]    | Downloading package inaugural to /root/nltk_data...\n",
            "[nltk_data]    |   Package inaugural is already up-to-date!\n",
            "[nltk_data]    | Downloading package indian to /root/nltk_data...\n",
            "[nltk_data]    |   Package indian is already up-to-date!\n",
            "[nltk_data]    | Downloading package jeita to /root/nltk_data...\n",
            "[nltk_data]    |   Package jeita is already up-to-date!\n",
            "[nltk_data]    | Downloading package kimmo to /root/nltk_data...\n",
            "[nltk_data]    |   Package kimmo is already up-to-date!\n",
            "[nltk_data]    | Downloading package knbc to /root/nltk_data...\n",
            "[nltk_data]    |   Package knbc is already up-to-date!\n",
            "[nltk_data]    | Downloading package large_grammars to\n",
            "[nltk_data]    |     /root/nltk_data...\n",
            "[nltk_data]    |   Package large_grammars is already up-to-date!\n",
            "[nltk_data]    | Downloading package lin_thesaurus to\n",
            "[nltk_data]    |     /root/nltk_data...\n",
            "[nltk_data]    |   Package lin_thesaurus is already up-to-date!\n",
            "[nltk_data]    | Downloading package mac_morpho to /root/nltk_data...\n",
            "[nltk_data]    |   Package mac_morpho is already up-to-date!\n",
            "[nltk_data]    | Downloading package machado to /root/nltk_data...\n",
            "[nltk_data]    |   Package machado is already up-to-date!\n",
            "[nltk_data]    | Downloading package masc_tagged to /root/nltk_data...\n",
            "[nltk_data]    |   Package masc_tagged is already up-to-date!\n",
            "[nltk_data]    | Downloading package maxent_ne_chunker to\n",
            "[nltk_data]    |     /root/nltk_data...\n",
            "[nltk_data]    |   Package maxent_ne_chunker is already up-to-date!\n",
            "[nltk_data]    | Downloading package maxent_treebank_pos_tagger to\n",
            "[nltk_data]    |     /root/nltk_data...\n",
            "[nltk_data]    |   Package maxent_treebank_pos_tagger is already up-\n",
            "[nltk_data]    |       to-date!\n",
            "[nltk_data]    | Downloading package moses_sample to\n",
            "[nltk_data]    |     /root/nltk_data...\n",
            "[nltk_data]    |   Package moses_sample is already up-to-date!\n",
            "[nltk_data]    | Downloading package movie_reviews to\n",
            "[nltk_data]    |     /root/nltk_data...\n",
            "[nltk_data]    |   Package movie_reviews is already up-to-date!\n",
            "[nltk_data]    | Downloading package mte_teip5 to /root/nltk_data...\n",
            "[nltk_data]    |   Package mte_teip5 is already up-to-date!\n",
            "[nltk_data]    | Downloading package mwa_ppdb to /root/nltk_data...\n",
            "[nltk_data]    |   Package mwa_ppdb is already up-to-date!\n",
            "[nltk_data]    | Downloading package names to /root/nltk_data...\n",
            "[nltk_data]    |   Package names is already up-to-date!\n",
            "[nltk_data]    | Downloading package nombank.1.0 to /root/nltk_data...\n",
            "[nltk_data]    |   Package nombank.1.0 is already up-to-date!\n",
            "[nltk_data]    | Downloading package nonbreaking_prefixes to\n",
            "[nltk_data]    |     /root/nltk_data...\n",
            "[nltk_data]    |   Package nonbreaking_prefixes is already up-to-date!\n",
            "[nltk_data]    | Downloading package nps_chat to /root/nltk_data...\n",
            "[nltk_data]    |   Package nps_chat is already up-to-date!\n",
            "[nltk_data]    | Downloading package omw to /root/nltk_data...\n",
            "[nltk_data]    |   Package omw is already up-to-date!\n",
            "[nltk_data]    | Downloading package omw-1.4 to /root/nltk_data...\n",
            "[nltk_data]    |   Package omw-1.4 is already up-to-date!\n",
            "[nltk_data]    | Downloading package opinion_lexicon to\n",
            "[nltk_data]    |     /root/nltk_data...\n",
            "[nltk_data]    |   Package opinion_lexicon is already up-to-date!\n",
            "[nltk_data]    | Downloading package panlex_swadesh to\n",
            "[nltk_data]    |     /root/nltk_data...\n",
            "[nltk_data]    |   Package panlex_swadesh is already up-to-date!\n",
            "[nltk_data]    | Downloading package paradigms to /root/nltk_data...\n",
            "[nltk_data]    |   Package paradigms is already up-to-date!\n",
            "[nltk_data]    | Downloading package pe08 to /root/nltk_data...\n",
            "[nltk_data]    |   Package pe08 is already up-to-date!\n",
            "[nltk_data]    | Downloading package perluniprops to\n",
            "[nltk_data]    |     /root/nltk_data...\n",
            "[nltk_data]    |   Package perluniprops is already up-to-date!\n",
            "[nltk_data]    | Downloading package pil to /root/nltk_data...\n",
            "[nltk_data]    |   Package pil is already up-to-date!\n",
            "[nltk_data]    | Downloading package pl196x to /root/nltk_data...\n",
            "[nltk_data]    |   Package pl196x is already up-to-date!\n",
            "[nltk_data]    | Downloading package porter_test to /root/nltk_data...\n",
            "[nltk_data]    |   Package porter_test is already up-to-date!\n",
            "[nltk_data]    | Downloading package ppattach to /root/nltk_data...\n",
            "[nltk_data]    |   Package ppattach is already up-to-date!\n",
            "[nltk_data]    | Downloading package problem_reports to\n",
            "[nltk_data]    |     /root/nltk_data...\n",
            "[nltk_data]    |   Package problem_reports is already up-to-date!\n",
            "[nltk_data]    | Downloading package product_reviews_1 to\n",
            "[nltk_data]    |     /root/nltk_data...\n",
            "[nltk_data]    |   Package product_reviews_1 is already up-to-date!\n",
            "[nltk_data]    | Downloading package product_reviews_2 to\n",
            "[nltk_data]    |     /root/nltk_data...\n",
            "[nltk_data]    |   Package product_reviews_2 is already up-to-date!\n",
            "[nltk_data]    | Downloading package propbank to /root/nltk_data...\n",
            "[nltk_data]    |   Package propbank is already up-to-date!\n",
            "[nltk_data]    | Downloading package pros_cons to /root/nltk_data...\n",
            "[nltk_data]    |   Package pros_cons is already up-to-date!\n",
            "[nltk_data]    | Downloading package ptb to /root/nltk_data...\n",
            "[nltk_data]    |   Package ptb is already up-to-date!\n",
            "[nltk_data]    | Downloading package punkt to /root/nltk_data...\n",
            "[nltk_data]    |   Package punkt is already up-to-date!\n",
            "[nltk_data]    | Downloading package qc to /root/nltk_data...\n",
            "[nltk_data]    |   Package qc is already up-to-date!\n",
            "[nltk_data]    | Downloading package reuters to /root/nltk_data...\n",
            "[nltk_data]    |   Package reuters is already up-to-date!\n",
            "[nltk_data]    | Downloading package rslp to /root/nltk_data...\n",
            "[nltk_data]    |   Package rslp is already up-to-date!\n",
            "[nltk_data]    | Downloading package rte to /root/nltk_data...\n",
            "[nltk_data]    |   Package rte is already up-to-date!\n",
            "[nltk_data]    | Downloading package sample_grammars to\n",
            "[nltk_data]    |     /root/nltk_data...\n",
            "[nltk_data]    |   Package sample_grammars is already up-to-date!\n",
            "[nltk_data]    | Downloading package semcor to /root/nltk_data...\n",
            "[nltk_data]    |   Package semcor is already up-to-date!\n",
            "[nltk_data]    | Downloading package senseval to /root/nltk_data...\n",
            "[nltk_data]    |   Package senseval is already up-to-date!\n",
            "[nltk_data]    | Downloading package sentence_polarity to\n",
            "[nltk_data]    |     /root/nltk_data...\n",
            "[nltk_data]    |   Package sentence_polarity is already up-to-date!\n",
            "[nltk_data]    | Downloading package sentiwordnet to\n",
            "[nltk_data]    |     /root/nltk_data...\n",
            "[nltk_data]    |   Package sentiwordnet is already up-to-date!\n",
            "[nltk_data]    | Downloading package shakespeare to /root/nltk_data...\n",
            "[nltk_data]    |   Package shakespeare is already up-to-date!\n",
            "[nltk_data]    | Downloading package sinica_treebank to\n",
            "[nltk_data]    |     /root/nltk_data...\n",
            "[nltk_data]    |   Package sinica_treebank is already up-to-date!\n",
            "[nltk_data]    | Downloading package smultron to /root/nltk_data...\n",
            "[nltk_data]    |   Package smultron is already up-to-date!\n",
            "[nltk_data]    | Downloading package snowball_data to\n",
            "[nltk_data]    |     /root/nltk_data...\n",
            "[nltk_data]    |   Package snowball_data is already up-to-date!\n",
            "[nltk_data]    | Downloading package spanish_grammars to\n",
            "[nltk_data]    |     /root/nltk_data...\n",
            "[nltk_data]    |   Package spanish_grammars is already up-to-date!\n",
            "[nltk_data]    | Downloading package state_union to /root/nltk_data...\n",
            "[nltk_data]    |   Package state_union is already up-to-date!\n",
            "[nltk_data]    | Downloading package stopwords to /root/nltk_data...\n",
            "[nltk_data]    |   Package stopwords is already up-to-date!\n",
            "[nltk_data]    | Downloading package subjectivity to\n",
            "[nltk_data]    |     /root/nltk_data...\n",
            "[nltk_data]    |   Package subjectivity is already up-to-date!\n",
            "[nltk_data]    | Downloading package swadesh to /root/nltk_data...\n",
            "[nltk_data]    |   Package swadesh is already up-to-date!\n",
            "[nltk_data]    | Downloading package switchboard to /root/nltk_data...\n",
            "[nltk_data]    |   Package switchboard is already up-to-date!\n",
            "[nltk_data]    | Downloading package tagsets to /root/nltk_data...\n",
            "[nltk_data]    |   Package tagsets is already up-to-date!\n",
            "[nltk_data]    | Downloading package timit to /root/nltk_data...\n",
            "[nltk_data]    |   Package timit is already up-to-date!\n",
            "[nltk_data]    | Downloading package toolbox to /root/nltk_data...\n",
            "[nltk_data]    |   Package toolbox is already up-to-date!\n",
            "[nltk_data]    | Downloading package treebank to /root/nltk_data...\n",
            "[nltk_data]    |   Package treebank is already up-to-date!\n",
            "[nltk_data]    | Downloading package twitter_samples to\n",
            "[nltk_data]    |     /root/nltk_data...\n",
            "[nltk_data]    |   Package twitter_samples is already up-to-date!\n",
            "[nltk_data]    | Downloading package udhr to /root/nltk_data...\n",
            "[nltk_data]    |   Package udhr is already up-to-date!\n",
            "[nltk_data]    | Downloading package udhr2 to /root/nltk_data...\n",
            "[nltk_data]    |   Package udhr2 is already up-to-date!\n",
            "[nltk_data]    | Downloading package unicode_samples to\n",
            "[nltk_data]    |     /root/nltk_data...\n",
            "[nltk_data]    |   Package unicode_samples is already up-to-date!\n",
            "[nltk_data]    | Downloading package universal_tagset to\n",
            "[nltk_data]    |     /root/nltk_data...\n",
            "[nltk_data]    |   Package universal_tagset is already up-to-date!\n",
            "[nltk_data]    | Downloading package universal_treebanks_v20 to\n",
            "[nltk_data]    |     /root/nltk_data...\n",
            "[nltk_data]    |   Package universal_treebanks_v20 is already up-to-\n",
            "[nltk_data]    |       date!\n",
            "[nltk_data]    | Downloading package vader_lexicon to\n",
            "[nltk_data]    |     /root/nltk_data...\n",
            "[nltk_data]    |   Package vader_lexicon is already up-to-date!\n",
            "[nltk_data]    | Downloading package verbnet to /root/nltk_data...\n",
            "[nltk_data]    |   Package verbnet is already up-to-date!\n",
            "[nltk_data]    | Downloading package verbnet3 to /root/nltk_data...\n",
            "[nltk_data]    |   Package verbnet3 is already up-to-date!\n",
            "[nltk_data]    | Downloading package webtext to /root/nltk_data...\n",
            "[nltk_data]    |   Package webtext is already up-to-date!\n",
            "[nltk_data]    | Downloading package wmt15_eval to /root/nltk_data...\n",
            "[nltk_data]    |   Package wmt15_eval is already up-to-date!\n",
            "[nltk_data]    | Downloading package word2vec_sample to\n",
            "[nltk_data]    |     /root/nltk_data...\n",
            "[nltk_data]    |   Package word2vec_sample is already up-to-date!\n",
            "[nltk_data]    | Downloading package wordnet to /root/nltk_data...\n",
            "[nltk_data]    |   Package wordnet is already up-to-date!\n",
            "[nltk_data]    | Downloading package wordnet2021 to /root/nltk_data...\n",
            "[nltk_data]    |   Package wordnet2021 is already up-to-date!\n",
            "[nltk_data]    | Downloading package wordnet2022 to /root/nltk_data...\n",
            "[nltk_data]    |   Package wordnet2022 is already up-to-date!\n",
            "[nltk_data]    | Downloading package wordnet31 to /root/nltk_data...\n",
            "[nltk_data]    |   Package wordnet31 is already up-to-date!\n",
            "[nltk_data]    | Downloading package wordnet_ic to /root/nltk_data...\n",
            "[nltk_data]    |   Package wordnet_ic is already up-to-date!\n",
            "[nltk_data]    | Downloading package words to /root/nltk_data...\n",
            "[nltk_data]    |   Package words is already up-to-date!\n",
            "[nltk_data]    | Downloading package ycoe to /root/nltk_data...\n",
            "[nltk_data]    |   Package ycoe is already up-to-date!\n",
            "[nltk_data]    | \n",
            "[nltk_data]  Done downloading collection all\n"
          ]
        },
        {
          "output_type": "execute_result",
          "data": {
            "text/plain": [
              "True"
            ]
          },
          "metadata": {},
          "execution_count": 78
        }
      ]
    },
    {
      "cell_type": "code",
      "source": [
        "data = pd.read_csv('/content/TOS-Summarization/Dataset/all_v1_transpose.csv')"
      ],
      "metadata": {
        "id": "PqmYC_sOrrt2"
      },
      "execution_count": 79,
      "outputs": []
    },
    {
      "cell_type": "code",
      "source": [
        "data.shape"
      ],
      "metadata": {
        "colab": {
          "base_uri": "https://localhost:8080/"
        },
        "id": "TdsDq7chslOU",
        "outputId": "03d83a07-d44f-44e1-b316-58f7ab4b3686"
      },
      "execution_count": 80,
      "outputs": [
        {
          "output_type": "execute_result",
          "data": {
            "text/plain": [
              "(446, 14)"
            ]
          },
          "metadata": {},
          "execution_count": 80
        }
      ]
    },
    {
      "cell_type": "code",
      "source": [
        "data.head()"
      ],
      "metadata": {
        "colab": {
          "base_uri": "https://localhost:8080/",
          "height": 523
        },
        "id": "TPT7TupcrcNA",
        "outputId": "d7aa3f76-2f88-4500-9708-3cd7194eeab0"
      },
      "execution_count": 81,
      "outputs": [
        {
          "output_type": "execute_result",
          "data": {
            "text/plain": [
              "                           doc                        id  \\\n",
              "0  Pokemon GO Terms of Service  5786730a6cca83a54c0035b7   \n",
              "1  Pokemon GO Terms of Service  57866df76cca83a54c0035a1   \n",
              "2  Pokemon GO Terms of Service  5786730a6cca83a54c0035b6   \n",
              "3  Pokemon GO Terms of Service  57866df76cca83a54c0035a0   \n",
              "4  Pokemon GO Terms of Service  57866df76cca83a54c00359f   \n",
              "\n",
              "                                       original_text  \\\n",
              "0  welcome to the pokémon go video game services ...   \n",
              "1  by using our services you are agreeing to thes...   \n",
              "2  if you want to use certain features of the ser...   \n",
              "3  during game play please be aware of your surro...   \n",
              "4  subject to your compliance with these terms ni...   \n",
              "\n",
              "                                   reference_summary  \\\n",
              "0                                                hi.   \n",
              "1  by playing this game you agree to these terms....   \n",
              "2  you have to use google pokemon trainer club or...   \n",
              "3  don t die or hurt others and if you do it s no...   \n",
              "4  don t copy modify resell distribute or reverse...   \n",
              "\n",
              "                                  title         uid case_code case_text note  \\\n",
              "0                                   NaN  legalsum01       NaN       NaN  NaN   \n",
              "1                    Agreement To Terms  legalsum02       NaN       NaN  NaN   \n",
              "2  Eligibility and Account Registration  legalsum03       NaN       NaN  NaN   \n",
              "3                             Safe Play  legalsum04       NaN       NaN  NaN   \n",
              "4                         Rights in App  legalsum05       NaN       NaN  NaN   \n",
              "\n",
              "  title_code title_text urls tldr_code tldr_text  \n",
              "0        NaN        NaN  NaN       NaN       NaN  \n",
              "1        NaN        NaN  NaN       NaN       NaN  \n",
              "2        NaN        NaN  NaN       NaN       NaN  \n",
              "3        NaN        NaN  NaN       NaN       NaN  \n",
              "4        NaN        NaN  NaN       NaN       NaN  "
            ],
            "text/html": [
              "\n",
              "  <div id=\"df-078c5ce4-5f0b-4011-b967-86ea130de66f\">\n",
              "    <div class=\"colab-df-container\">\n",
              "      <div>\n",
              "<style scoped>\n",
              "    .dataframe tbody tr th:only-of-type {\n",
              "        vertical-align: middle;\n",
              "    }\n",
              "\n",
              "    .dataframe tbody tr th {\n",
              "        vertical-align: top;\n",
              "    }\n",
              "\n",
              "    .dataframe thead th {\n",
              "        text-align: right;\n",
              "    }\n",
              "</style>\n",
              "<table border=\"1\" class=\"dataframe\">\n",
              "  <thead>\n",
              "    <tr style=\"text-align: right;\">\n",
              "      <th></th>\n",
              "      <th>doc</th>\n",
              "      <th>id</th>\n",
              "      <th>original_text</th>\n",
              "      <th>reference_summary</th>\n",
              "      <th>title</th>\n",
              "      <th>uid</th>\n",
              "      <th>case_code</th>\n",
              "      <th>case_text</th>\n",
              "      <th>note</th>\n",
              "      <th>title_code</th>\n",
              "      <th>title_text</th>\n",
              "      <th>urls</th>\n",
              "      <th>tldr_code</th>\n",
              "      <th>tldr_text</th>\n",
              "    </tr>\n",
              "  </thead>\n",
              "  <tbody>\n",
              "    <tr>\n",
              "      <th>0</th>\n",
              "      <td>Pokemon GO Terms of Service</td>\n",
              "      <td>5786730a6cca83a54c0035b7</td>\n",
              "      <td>welcome to the pokémon go video game services ...</td>\n",
              "      <td>hi.</td>\n",
              "      <td>NaN</td>\n",
              "      <td>legalsum01</td>\n",
              "      <td>NaN</td>\n",
              "      <td>NaN</td>\n",
              "      <td>NaN</td>\n",
              "      <td>NaN</td>\n",
              "      <td>NaN</td>\n",
              "      <td>NaN</td>\n",
              "      <td>NaN</td>\n",
              "      <td>NaN</td>\n",
              "    </tr>\n",
              "    <tr>\n",
              "      <th>1</th>\n",
              "      <td>Pokemon GO Terms of Service</td>\n",
              "      <td>57866df76cca83a54c0035a1</td>\n",
              "      <td>by using our services you are agreeing to thes...</td>\n",
              "      <td>by playing this game you agree to these terms....</td>\n",
              "      <td>Agreement To Terms</td>\n",
              "      <td>legalsum02</td>\n",
              "      <td>NaN</td>\n",
              "      <td>NaN</td>\n",
              "      <td>NaN</td>\n",
              "      <td>NaN</td>\n",
              "      <td>NaN</td>\n",
              "      <td>NaN</td>\n",
              "      <td>NaN</td>\n",
              "      <td>NaN</td>\n",
              "    </tr>\n",
              "    <tr>\n",
              "      <th>2</th>\n",
              "      <td>Pokemon GO Terms of Service</td>\n",
              "      <td>5786730a6cca83a54c0035b6</td>\n",
              "      <td>if you want to use certain features of the ser...</td>\n",
              "      <td>you have to use google pokemon trainer club or...</td>\n",
              "      <td>Eligibility and Account Registration</td>\n",
              "      <td>legalsum03</td>\n",
              "      <td>NaN</td>\n",
              "      <td>NaN</td>\n",
              "      <td>NaN</td>\n",
              "      <td>NaN</td>\n",
              "      <td>NaN</td>\n",
              "      <td>NaN</td>\n",
              "      <td>NaN</td>\n",
              "      <td>NaN</td>\n",
              "    </tr>\n",
              "    <tr>\n",
              "      <th>3</th>\n",
              "      <td>Pokemon GO Terms of Service</td>\n",
              "      <td>57866df76cca83a54c0035a0</td>\n",
              "      <td>during game play please be aware of your surro...</td>\n",
              "      <td>don t die or hurt others and if you do it s no...</td>\n",
              "      <td>Safe Play</td>\n",
              "      <td>legalsum04</td>\n",
              "      <td>NaN</td>\n",
              "      <td>NaN</td>\n",
              "      <td>NaN</td>\n",
              "      <td>NaN</td>\n",
              "      <td>NaN</td>\n",
              "      <td>NaN</td>\n",
              "      <td>NaN</td>\n",
              "      <td>NaN</td>\n",
              "    </tr>\n",
              "    <tr>\n",
              "      <th>4</th>\n",
              "      <td>Pokemon GO Terms of Service</td>\n",
              "      <td>57866df76cca83a54c00359f</td>\n",
              "      <td>subject to your compliance with these terms ni...</td>\n",
              "      <td>don t copy modify resell distribute or reverse...</td>\n",
              "      <td>Rights in App</td>\n",
              "      <td>legalsum05</td>\n",
              "      <td>NaN</td>\n",
              "      <td>NaN</td>\n",
              "      <td>NaN</td>\n",
              "      <td>NaN</td>\n",
              "      <td>NaN</td>\n",
              "      <td>NaN</td>\n",
              "      <td>NaN</td>\n",
              "      <td>NaN</td>\n",
              "    </tr>\n",
              "  </tbody>\n",
              "</table>\n",
              "</div>\n",
              "      <button class=\"colab-df-convert\" onclick=\"convertToInteractive('df-078c5ce4-5f0b-4011-b967-86ea130de66f')\"\n",
              "              title=\"Convert this dataframe to an interactive table.\"\n",
              "              style=\"display:none;\">\n",
              "        \n",
              "  <svg xmlns=\"http://www.w3.org/2000/svg\" height=\"24px\"viewBox=\"0 0 24 24\"\n",
              "       width=\"24px\">\n",
              "    <path d=\"M0 0h24v24H0V0z\" fill=\"none\"/>\n",
              "    <path d=\"M18.56 5.44l.94 2.06.94-2.06 2.06-.94-2.06-.94-.94-2.06-.94 2.06-2.06.94zm-11 1L8.5 8.5l.94-2.06 2.06-.94-2.06-.94L8.5 2.5l-.94 2.06-2.06.94zm10 10l.94 2.06.94-2.06 2.06-.94-2.06-.94-.94-2.06-.94 2.06-2.06.94z\"/><path d=\"M17.41 7.96l-1.37-1.37c-.4-.4-.92-.59-1.43-.59-.52 0-1.04.2-1.43.59L10.3 9.45l-7.72 7.72c-.78.78-.78 2.05 0 2.83L4 21.41c.39.39.9.59 1.41.59.51 0 1.02-.2 1.41-.59l7.78-7.78 2.81-2.81c.8-.78.8-2.07 0-2.86zM5.41 20L4 18.59l7.72-7.72 1.47 1.35L5.41 20z\"/>\n",
              "  </svg>\n",
              "      </button>\n",
              "      \n",
              "  <style>\n",
              "    .colab-df-container {\n",
              "      display:flex;\n",
              "      flex-wrap:wrap;\n",
              "      gap: 12px;\n",
              "    }\n",
              "\n",
              "    .colab-df-convert {\n",
              "      background-color: #E8F0FE;\n",
              "      border: none;\n",
              "      border-radius: 50%;\n",
              "      cursor: pointer;\n",
              "      display: none;\n",
              "      fill: #1967D2;\n",
              "      height: 32px;\n",
              "      padding: 0 0 0 0;\n",
              "      width: 32px;\n",
              "    }\n",
              "\n",
              "    .colab-df-convert:hover {\n",
              "      background-color: #E2EBFA;\n",
              "      box-shadow: 0px 1px 2px rgba(60, 64, 67, 0.3), 0px 1px 3px 1px rgba(60, 64, 67, 0.15);\n",
              "      fill: #174EA6;\n",
              "    }\n",
              "\n",
              "    [theme=dark] .colab-df-convert {\n",
              "      background-color: #3B4455;\n",
              "      fill: #D2E3FC;\n",
              "    }\n",
              "\n",
              "    [theme=dark] .colab-df-convert:hover {\n",
              "      background-color: #434B5C;\n",
              "      box-shadow: 0px 1px 3px 1px rgba(0, 0, 0, 0.15);\n",
              "      filter: drop-shadow(0px 1px 2px rgba(0, 0, 0, 0.3));\n",
              "      fill: #FFFFFF;\n",
              "    }\n",
              "  </style>\n",
              "\n",
              "      <script>\n",
              "        const buttonEl =\n",
              "          document.querySelector('#df-078c5ce4-5f0b-4011-b967-86ea130de66f button.colab-df-convert');\n",
              "        buttonEl.style.display =\n",
              "          google.colab.kernel.accessAllowed ? 'block' : 'none';\n",
              "\n",
              "        async function convertToInteractive(key) {\n",
              "          const element = document.querySelector('#df-078c5ce4-5f0b-4011-b967-86ea130de66f');\n",
              "          const dataTable =\n",
              "            await google.colab.kernel.invokeFunction('convertToInteractive',\n",
              "                                                     [key], {});\n",
              "          if (!dataTable) return;\n",
              "\n",
              "          const docLinkHtml = 'Like what you see? Visit the ' +\n",
              "            '<a target=\"_blank\" href=https://colab.research.google.com/notebooks/data_table.ipynb>data table notebook</a>'\n",
              "            + ' to learn more about interactive tables.';\n",
              "          element.innerHTML = '';\n",
              "          dataTable['output_type'] = 'display_data';\n",
              "          await google.colab.output.renderOutput(dataTable, element);\n",
              "          const docLink = document.createElement('div');\n",
              "          docLink.innerHTML = docLinkHtml;\n",
              "          element.appendChild(docLink);\n",
              "        }\n",
              "      </script>\n",
              "    </div>\n",
              "  </div>\n",
              "  "
            ]
          },
          "metadata": {},
          "execution_count": 81
        }
      ]
    },
    {
      "cell_type": "markdown",
      "source": [
        "Example of a Terms of Service document with reference summary"
      ],
      "metadata": {
        "id": "J9c-RZ4tkgcp"
      }
    },
    {
      "cell_type": "code",
      "source": [
        "data.original_text[69]"
      ],
      "metadata": {
        "colab": {
          "base_uri": "https://localhost:8080/",
          "height": 120
        },
        "id": "pMn85e2nsXmT",
        "outputId": "a6ef7651-d2c4-490e-9757-25fef642b8cf"
      },
      "execution_count": 82,
      "outputs": [
        {
          "output_type": "execute_result",
          "data": {
            "text/plain": [
              "'our goal is to deliver advertising and other commercial or sponsored content that is valuable to our users and advertisers. in order to help us do that you agree to the following you give us permission to use your name profile picture content and information in connection with commercial sponsored or related content such as a brand you like served or enhanced by us. this means for example that you permit a business or other entity to pay us to display your name and or profile picture with your content or information without any compensation to you. if you have selected a specific audience for your content or information we will respect your choice when we use it. we do not give your content or information to advertisers without your consent. you understand that we may not always identify paid services and communications as such.'"
            ],
            "application/vnd.google.colaboratory.intrinsic+json": {
              "type": "string"
            }
          },
          "metadata": {},
          "execution_count": 82
        }
      ]
    },
    {
      "cell_type": "code",
      "source": [
        "data.reference_summary[69]"
      ],
      "metadata": {
        "colab": {
          "base_uri": "https://localhost:8080/",
          "height": 35
        },
        "id": "n_iRaCUUsdzC",
        "outputId": "08561700-2998-4db9-830f-18f6a3a2ec51"
      },
      "execution_count": 83,
      "outputs": [
        {
          "output_type": "execute_result",
          "data": {
            "text/plain": [
              "'facebook can use any of your stuff for any reason they want without paying you for advertising in particular.'"
            ],
            "application/vnd.google.colaboratory.intrinsic+json": {
              "type": "string"
            }
          },
          "metadata": {},
          "execution_count": 83
        }
      ]
    },
    {
      "cell_type": "markdown",
      "source": [
        "Splitting the dataframe into \n",
        "X: TOS Documents\n",
        "y: Reference summaries"
      ],
      "metadata": {
        "id": "EJElgOLckm8R"
      }
    },
    {
      "cell_type": "code",
      "source": [
        "X = data['original_text']\n",
        "y = data['reference_summary']"
      ],
      "metadata": {
        "id": "u-Dzr7acsiVv"
      },
      "execution_count": 84,
      "outputs": []
    },
    {
      "cell_type": "code",
      "source": [
        "X.head()"
      ],
      "metadata": {
        "colab": {
          "base_uri": "https://localhost:8080/"
        },
        "id": "uD8X1ui4hjCu",
        "outputId": "f72e1f40-d3fa-4c31-96d9-7a23bd35a8c5"
      },
      "execution_count": 85,
      "outputs": [
        {
          "output_type": "execute_result",
          "data": {
            "text/plain": [
              "0    welcome to the pokémon go video game services ...\n",
              "1    by using our services you are agreeing to thes...\n",
              "2    if you want to use certain features of the ser...\n",
              "3    during game play please be aware of your surro...\n",
              "4    subject to your compliance with these terms ni...\n",
              "Name: original_text, dtype: object"
            ]
          },
          "metadata": {},
          "execution_count": 85
        }
      ]
    },
    {
      "cell_type": "code",
      "source": [
        "y.head()"
      ],
      "metadata": {
        "colab": {
          "base_uri": "https://localhost:8080/"
        },
        "id": "VliYI2-giQ_p",
        "outputId": "da571757-b45f-4bcf-d9de-f1c4c9835c37"
      },
      "execution_count": 86,
      "outputs": [
        {
          "output_type": "execute_result",
          "data": {
            "text/plain": [
              "0                                                  hi.\n",
              "1    by playing this game you agree to these terms....\n",
              "2    you have to use google pokemon trainer club or...\n",
              "3    don t die or hurt others and if you do it s no...\n",
              "4    don t copy modify resell distribute or reverse...\n",
              "Name: reference_summary, dtype: object"
            ]
          },
          "metadata": {},
          "execution_count": 86
        }
      ]
    },
    {
      "cell_type": "code",
      "source": [
        "X.shape"
      ],
      "metadata": {
        "colab": {
          "base_uri": "https://localhost:8080/"
        },
        "id": "vNiTogEsiSho",
        "outputId": "5012a4a9-d5e7-4489-bd17-fde191adb528"
      },
      "execution_count": 87,
      "outputs": [
        {
          "output_type": "execute_result",
          "data": {
            "text/plain": [
              "(446,)"
            ]
          },
          "metadata": {},
          "execution_count": 87
        }
      ]
    },
    {
      "cell_type": "code",
      "source": [
        "y.shape"
      ],
      "metadata": {
        "id": "Ub23Rd-RlA9z",
        "outputId": "0bdda980-0dca-4679-c0e4-25c6a1ffa0d2",
        "colab": {
          "base_uri": "https://localhost:8080/"
        }
      },
      "execution_count": 88,
      "outputs": [
        {
          "output_type": "execute_result",
          "data": {
            "text/plain": [
              "(446,)"
            ]
          },
          "metadata": {},
          "execution_count": 88
        }
      ]
    },
    {
      "cell_type": "code",
      "source": [
        "def remove_punctuation(text):\n",
        "  text = re.sub(r'[^\\w\\s]', '', text)\n",
        "  return text"
      ],
      "metadata": {
        "id": "o0lCwcShcYNK"
      },
      "execution_count": 112,
      "outputs": []
    },
    {
      "cell_type": "code",
      "source": [
        "X_punc = X.apply(remove_punctuation)"
      ],
      "metadata": {
        "id": "-hsb2SfrclpS"
      },
      "execution_count": 113,
      "outputs": []
    },
    {
      "cell_type": "code",
      "source": [
        "X_punc[69]"
      ],
      "metadata": {
        "colab": {
          "base_uri": "https://localhost:8080/",
          "height": 120
        },
        "id": "NKKqf5BEcqxl",
        "outputId": "6d06ca30-b2eb-4d43-ae8e-cc2ad08cf69d"
      },
      "execution_count": 114,
      "outputs": [
        {
          "output_type": "execute_result",
          "data": {
            "text/plain": [
              "'our goal is to deliver advertising and other commercial or sponsored content that is valuable to our users and advertisers in order to help us do that you agree to the following you give us permission to use your name profile picture content and information in connection with commercial sponsored or related content such as a brand you like served or enhanced by us this means for example that you permit a business or other entity to pay us to display your name and or profile picture with your content or information without any compensation to you if you have selected a specific audience for your content or information we will respect your choice when we use it we do not give your content or information to advertisers without your consent you understand that we may not always identify paid services and communications as such'"
            ],
            "application/vnd.google.colaboratory.intrinsic+json": {
              "type": "string"
            }
          },
          "metadata": {},
          "execution_count": 114
        }
      ]
    },
    {
      "cell_type": "code",
      "source": [
        "stop = stopwords.words('english') "
      ],
      "metadata": {
        "id": "73_W0cdxW3J0"
      },
      "execution_count": 89,
      "outputs": []
    },
    {
      "cell_type": "code",
      "source": [
        "X_stop = X_punc.apply(lambda x: ' '.join([word for word in x.split() if word not in (stop)]))"
      ],
      "metadata": {
        "id": "j9ssOaneRqzr"
      },
      "execution_count": 115,
      "outputs": []
    },
    {
      "cell_type": "code",
      "source": [
        "X_stop[69]"
      ],
      "metadata": {
        "colab": {
          "base_uri": "https://localhost:8080/",
          "height": 86
        },
        "id": "Wo5cl4xnVk16",
        "outputId": "d18d439e-1e73-4d24-caee-24e7360e3eb8"
      },
      "execution_count": 116,
      "outputs": [
        {
          "output_type": "execute_result",
          "data": {
            "text/plain": [
              "'goal deliver advertising commercial sponsored content valuable users advertisers order help us agree following give us permission use name profile picture content information connection commercial sponsored related content brand like served enhanced us means example permit business entity pay us display name profile picture content information without compensation selected specific audience content information respect choice use give content information advertisers without consent understand may always identify paid services communications'"
            ],
            "application/vnd.google.colaboratory.intrinsic+json": {
              "type": "string"
            }
          },
          "metadata": {},
          "execution_count": 116
        }
      ]
    },
    {
      "cell_type": "code",
      "source": [
        "X_token = X_stop.apply(word_tokenize)"
      ],
      "metadata": {
        "id": "FkwEVWbTWmi_"
      },
      "execution_count": 117,
      "outputs": []
    },
    {
      "cell_type": "code",
      "source": [
        "X_token[69]"
      ],
      "metadata": {
        "colab": {
          "base_uri": "https://localhost:8080/"
        },
        "id": "Q4g-6GXgXUKR",
        "outputId": "afad6ff0-b1b3-47a4-893e-25e924fa9a0d"
      },
      "execution_count": 118,
      "outputs": [
        {
          "output_type": "execute_result",
          "data": {
            "text/plain": [
              "['goal',\n",
              " 'deliver',\n",
              " 'advertising',\n",
              " 'commercial',\n",
              " 'sponsored',\n",
              " 'content',\n",
              " 'valuable',\n",
              " 'users',\n",
              " 'advertisers',\n",
              " 'order',\n",
              " 'help',\n",
              " 'us',\n",
              " 'agree',\n",
              " 'following',\n",
              " 'give',\n",
              " 'us',\n",
              " 'permission',\n",
              " 'use',\n",
              " 'name',\n",
              " 'profile',\n",
              " 'picture',\n",
              " 'content',\n",
              " 'information',\n",
              " 'connection',\n",
              " 'commercial',\n",
              " 'sponsored',\n",
              " 'related',\n",
              " 'content',\n",
              " 'brand',\n",
              " 'like',\n",
              " 'served',\n",
              " 'enhanced',\n",
              " 'us',\n",
              " 'means',\n",
              " 'example',\n",
              " 'permit',\n",
              " 'business',\n",
              " 'entity',\n",
              " 'pay',\n",
              " 'us',\n",
              " 'display',\n",
              " 'name',\n",
              " 'profile',\n",
              " 'picture',\n",
              " 'content',\n",
              " 'information',\n",
              " 'without',\n",
              " 'compensation',\n",
              " 'selected',\n",
              " 'specific',\n",
              " 'audience',\n",
              " 'content',\n",
              " 'information',\n",
              " 'respect',\n",
              " 'choice',\n",
              " 'use',\n",
              " 'give',\n",
              " 'content',\n",
              " 'information',\n",
              " 'advertisers',\n",
              " 'without',\n",
              " 'consent',\n",
              " 'understand',\n",
              " 'may',\n",
              " 'always',\n",
              " 'identify',\n",
              " 'paid',\n",
              " 'services',\n",
              " 'communications']"
            ]
          },
          "metadata": {},
          "execution_count": 118
        }
      ]
    },
    {
      "cell_type": "code",
      "source": [
        "lemmatizer = WordNetLemmatizer()\n",
        "\n",
        "def get_wordnet_pos(treebank_tag):\n",
        "\n",
        "    if treebank_tag.startswith('J'):\n",
        "        return wordnet.ADJ\n",
        "    elif treebank_tag.startswith('V'):\n",
        "        return wordnet.VERB\n",
        "    elif treebank_tag.startswith('N'):\n",
        "        return wordnet.NOUN\n",
        "    else:\n",
        "        return wordnet.ADV\n",
        "\n",
        "\n",
        "def lemmatize_text(text):\n",
        "    return [lemmatizer.lemmatize(word, get_wordnet_pos(pos_tag)) for (word, pos_tag) in text]\n"
      ],
      "metadata": {
        "id": "mnHX8J2WX6rF"
      },
      "execution_count": 119,
      "outputs": []
    },
    {
      "cell_type": "code",
      "source": [
        "X_pos = X_token.apply(pos_tag)"
      ],
      "metadata": {
        "id": "EKFJvyiAYJN_"
      },
      "execution_count": 120,
      "outputs": []
    },
    {
      "cell_type": "code",
      "source": [
        "X_pos[69]"
      ],
      "metadata": {
        "colab": {
          "base_uri": "https://localhost:8080/"
        },
        "id": "tZX2cDjIYQnS",
        "outputId": "18eb8a79-f5b2-424a-ae8a-6d22920bde1c"
      },
      "execution_count": 121,
      "outputs": [
        {
          "output_type": "execute_result",
          "data": {
            "text/plain": [
              "[('goal', 'NN'),\n",
              " ('deliver', 'NN'),\n",
              " ('advertising', 'NN'),\n",
              " ('commercial', 'JJ'),\n",
              " ('sponsored', 'VBD'),\n",
              " ('content', 'JJ'),\n",
              " ('valuable', 'JJ'),\n",
              " ('users', 'NNS'),\n",
              " ('advertisers', 'NNS'),\n",
              " ('order', 'NN'),\n",
              " ('help', 'VBP'),\n",
              " ('us', 'PRP'),\n",
              " ('agree', 'VB'),\n",
              " ('following', 'VBG'),\n",
              " ('give', 'JJ'),\n",
              " ('us', 'PRP'),\n",
              " ('permission', 'NN'),\n",
              " ('use', 'NN'),\n",
              " ('name', 'NN'),\n",
              " ('profile', 'JJ'),\n",
              " ('picture', 'NN'),\n",
              " ('content', 'JJ'),\n",
              " ('information', 'NN'),\n",
              " ('connection', 'NN'),\n",
              " ('commercial', 'JJ'),\n",
              " ('sponsored', 'VBD'),\n",
              " ('related', 'JJ'),\n",
              " ('content', 'JJ'),\n",
              " ('brand', 'NN'),\n",
              " ('like', 'IN'),\n",
              " ('served', 'VBD'),\n",
              " ('enhanced', 'JJ'),\n",
              " ('us', 'PRP'),\n",
              " ('means', 'VBZ'),\n",
              " ('example', 'NN'),\n",
              " ('permit', 'NN'),\n",
              " ('business', 'NN'),\n",
              " ('entity', 'NN'),\n",
              " ('pay', 'VBP'),\n",
              " ('us', 'PRP'),\n",
              " ('display', 'VB'),\n",
              " ('name', 'NN'),\n",
              " ('profile', 'JJ'),\n",
              " ('picture', 'NN'),\n",
              " ('content', 'JJ'),\n",
              " ('information', 'NN'),\n",
              " ('without', 'IN'),\n",
              " ('compensation', 'NN'),\n",
              " ('selected', 'VBN'),\n",
              " ('specific', 'JJ'),\n",
              " ('audience', 'NN'),\n",
              " ('content', 'NN'),\n",
              " ('information', 'NN'),\n",
              " ('respect', 'NN'),\n",
              " ('choice', 'NN'),\n",
              " ('use', 'NN'),\n",
              " ('give', 'JJ'),\n",
              " ('content', 'NN'),\n",
              " ('information', 'NN'),\n",
              " ('advertisers', 'NNS'),\n",
              " ('without', 'IN'),\n",
              " ('consent', 'NN'),\n",
              " ('understand', 'NN'),\n",
              " ('may', 'MD'),\n",
              " ('always', 'RB'),\n",
              " ('identify', 'VB'),\n",
              " ('paid', 'NN'),\n",
              " ('services', 'NNS'),\n",
              " ('communications', 'NNS')]"
            ]
          },
          "metadata": {},
          "execution_count": 121
        }
      ]
    },
    {
      "cell_type": "code",
      "source": [
        "X_lemma = X_pos.apply(lemmatize_text)"
      ],
      "metadata": {
        "id": "WeddS0S_ZiHT"
      },
      "execution_count": 122,
      "outputs": []
    },
    {
      "cell_type": "code",
      "source": [
        "X_lemma[69]"
      ],
      "metadata": {
        "colab": {
          "base_uri": "https://localhost:8080/"
        },
        "id": "FcLWhLv3aRxH",
        "outputId": "45b3a8b7-0a15-4ad0-8389-44b4bc0abd46"
      },
      "execution_count": 123,
      "outputs": [
        {
          "output_type": "execute_result",
          "data": {
            "text/plain": [
              "['goal',\n",
              " 'deliver',\n",
              " 'advertising',\n",
              " 'commercial',\n",
              " 'sponsor',\n",
              " 'content',\n",
              " 'valuable',\n",
              " 'user',\n",
              " 'advertiser',\n",
              " 'order',\n",
              " 'help',\n",
              " 'us',\n",
              " 'agree',\n",
              " 'follow',\n",
              " 'give',\n",
              " 'us',\n",
              " 'permission',\n",
              " 'use',\n",
              " 'name',\n",
              " 'profile',\n",
              " 'picture',\n",
              " 'content',\n",
              " 'information',\n",
              " 'connection',\n",
              " 'commercial',\n",
              " 'sponsor',\n",
              " 'related',\n",
              " 'content',\n",
              " 'brand',\n",
              " 'like',\n",
              " 'serve',\n",
              " 'enhanced',\n",
              " 'us',\n",
              " 'mean',\n",
              " 'example',\n",
              " 'permit',\n",
              " 'business',\n",
              " 'entity',\n",
              " 'pay',\n",
              " 'us',\n",
              " 'display',\n",
              " 'name',\n",
              " 'profile',\n",
              " 'picture',\n",
              " 'content',\n",
              " 'information',\n",
              " 'without',\n",
              " 'compensation',\n",
              " 'select',\n",
              " 'specific',\n",
              " 'audience',\n",
              " 'content',\n",
              " 'information',\n",
              " 'respect',\n",
              " 'choice',\n",
              " 'use',\n",
              " 'give',\n",
              " 'content',\n",
              " 'information',\n",
              " 'advertiser',\n",
              " 'without',\n",
              " 'consent',\n",
              " 'understand',\n",
              " 'may',\n",
              " 'always',\n",
              " 'identify',\n",
              " 'paid',\n",
              " 'service',\n",
              " 'communication']"
            ]
          },
          "metadata": {},
          "execution_count": 123
        }
      ]
    }
  ]
}